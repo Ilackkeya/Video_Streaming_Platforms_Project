{
 "cells": [
  {
   "cell_type": "markdown",
   "id": "7357d5ea-1d85-487d-b365-dacf871b4ed4",
   "metadata": {},
   "source": [
    "## 1. Ingest and Access Data"
   ]
  },
  {
   "cell_type": "code",
   "execution_count": 1,
   "id": "e442aec9-c30c-4db6-8dd7-adbc0d1b81fe",
   "metadata": {},
   "outputs": [],
   "source": [
    "import pandas as pd\n",
    "import numpy as np\n",
    "\n",
    "df = pd.read_csv('netflix_titles.csv')"
   ]
  },
  {
   "cell_type": "markdown",
   "id": "0b311080-6750-463f-92e4-b6cc17a049b0",
   "metadata": {},
   "source": [
    "Getting a basic overview of data"
   ]
  },
  {
   "cell_type": "code",
   "execution_count": 2,
   "id": "fe89a1b0-b81a-4f98-8aea-43734a5539af",
   "metadata": {},
   "outputs": [
    {
     "data": {
      "text/html": [
       "<div>\n",
       "<style scoped>\n",
       "    .dataframe tbody tr th:only-of-type {\n",
       "        vertical-align: middle;\n",
       "    }\n",
       "\n",
       "    .dataframe tbody tr th {\n",
       "        vertical-align: top;\n",
       "    }\n",
       "\n",
       "    .dataframe thead th {\n",
       "        text-align: right;\n",
       "    }\n",
       "</style>\n",
       "<table border=\"1\" class=\"dataframe\">\n",
       "  <thead>\n",
       "    <tr style=\"text-align: right;\">\n",
       "      <th></th>\n",
       "      <th>show_id</th>\n",
       "      <th>type</th>\n",
       "      <th>title</th>\n",
       "      <th>director</th>\n",
       "      <th>cast</th>\n",
       "      <th>country</th>\n",
       "      <th>date_added</th>\n",
       "      <th>release_year</th>\n",
       "      <th>rating</th>\n",
       "      <th>duration</th>\n",
       "      <th>listed_in</th>\n",
       "      <th>description</th>\n",
       "    </tr>\n",
       "  </thead>\n",
       "  <tbody>\n",
       "    <tr>\n",
       "      <th>0</th>\n",
       "      <td>s3536</td>\n",
       "      <td>Movie</td>\n",
       "      <td>American Factory: A Conversation with the Obamas</td>\n",
       "      <td>NaN</td>\n",
       "      <td>President Barack Obama, Michelle Obama, Julia ...</td>\n",
       "      <td>United States</td>\n",
       "      <td>September 5, 2019</td>\n",
       "      <td>2019</td>\n",
       "      <td>TV-G</td>\n",
       "      <td>10 min</td>\n",
       "      <td>Documentaries</td>\n",
       "      <td>Barack and Michelle Obama talk with directors ...</td>\n",
       "    </tr>\n",
       "    <tr>\n",
       "      <th>1</th>\n",
       "      <td>s55</td>\n",
       "      <td>Movie</td>\n",
       "      <td>InuYasha the Movie: Affections Touching Across...</td>\n",
       "      <td>Toshiya Shinohara</td>\n",
       "      <td>Kappei Yamaguchi, Satsuki Yukino, Koji Tsujita...</td>\n",
       "      <td>Japan</td>\n",
       "      <td>September 15, 2021</td>\n",
       "      <td>2001</td>\n",
       "      <td>TV-PG</td>\n",
       "      <td>100 min</td>\n",
       "      <td>Action &amp; Adventure, Anime Features, Internatio...</td>\n",
       "      <td>A powerful demon has been sealed away for 200 ...</td>\n",
       "    </tr>\n",
       "    <tr>\n",
       "      <th>2</th>\n",
       "      <td>s141</td>\n",
       "      <td>Movie</td>\n",
       "      <td>El patrón, radiografía de un crimen</td>\n",
       "      <td>Sebastián Schindel</td>\n",
       "      <td>Joaquín Furriel, Luis Ziembrowski, Guillermo P...</td>\n",
       "      <td>Argentina, Venezuela</td>\n",
       "      <td>September 1, 2021</td>\n",
       "      <td>2014</td>\n",
       "      <td>TV-MA</td>\n",
       "      <td>100 min</td>\n",
       "      <td>Dramas, International Movies, Thrillers</td>\n",
       "      <td>A lawyer defends an illiterate man whose explo...</td>\n",
       "    </tr>\n",
       "    <tr>\n",
       "      <th>3</th>\n",
       "      <td>s301</td>\n",
       "      <td>Movie</td>\n",
       "      <td>Vivo</td>\n",
       "      <td>Kirk DeMicco, Brandon Jeffords</td>\n",
       "      <td>Lin-Manuel Miranda, Ynairaly Simo, Zoe Saldana...</td>\n",
       "      <td>Canada, United States</td>\n",
       "      <td>August 6, 2021</td>\n",
       "      <td>2021</td>\n",
       "      <td>PG</td>\n",
       "      <td>100 min</td>\n",
       "      <td>Children &amp; Family Movies, Music &amp; Musicals</td>\n",
       "      <td>A music-loving kinkajou embarks on the journey...</td>\n",
       "    </tr>\n",
       "    <tr>\n",
       "      <th>4</th>\n",
       "      <td>s456</td>\n",
       "      <td>Movie</td>\n",
       "      <td>Emicida: AmarElo - Live in São Paulo</td>\n",
       "      <td>Fred Ouro Preto</td>\n",
       "      <td>Emicida</td>\n",
       "      <td>NaN</td>\n",
       "      <td>July 15, 2021</td>\n",
       "      <td>2021</td>\n",
       "      <td>TV-MA</td>\n",
       "      <td>100 min</td>\n",
       "      <td>Documentaries, International Movies, Music &amp; M...</td>\n",
       "      <td>Brazilian rapper Emicida brings his progressiv...</td>\n",
       "    </tr>\n",
       "  </tbody>\n",
       "</table>\n",
       "</div>"
      ],
      "text/plain": [
       "  show_id   type                                              title  \\\n",
       "0   s3536  Movie   American Factory: A Conversation with the Obamas   \n",
       "1     s55  Movie  InuYasha the Movie: Affections Touching Across...   \n",
       "2    s141  Movie                El patrón, radiografía de un crimen   \n",
       "3    s301  Movie                                               Vivo   \n",
       "4    s456  Movie               Emicida: AmarElo - Live in São Paulo   \n",
       "\n",
       "                         director  \\\n",
       "0                             NaN   \n",
       "1               Toshiya Shinohara   \n",
       "2              Sebastián Schindel   \n",
       "3  Kirk DeMicco, Brandon Jeffords   \n",
       "4                 Fred Ouro Preto   \n",
       "\n",
       "                                                cast                country  \\\n",
       "0  President Barack Obama, Michelle Obama, Julia ...          United States   \n",
       "1  Kappei Yamaguchi, Satsuki Yukino, Koji Tsujita...                  Japan   \n",
       "2  Joaquín Furriel, Luis Ziembrowski, Guillermo P...   Argentina, Venezuela   \n",
       "3  Lin-Manuel Miranda, Ynairaly Simo, Zoe Saldana...  Canada, United States   \n",
       "4                                            Emicida                    NaN   \n",
       "\n",
       "           date_added  release_year rating duration  \\\n",
       "0   September 5, 2019          2019   TV-G   10 min   \n",
       "1  September 15, 2021          2001  TV-PG  100 min   \n",
       "2   September 1, 2021          2014  TV-MA  100 min   \n",
       "3      August 6, 2021          2021     PG  100 min   \n",
       "4       July 15, 2021          2021  TV-MA  100 min   \n",
       "\n",
       "                                           listed_in  \\\n",
       "0                                      Documentaries   \n",
       "1  Action & Adventure, Anime Features, Internatio...   \n",
       "2            Dramas, International Movies, Thrillers   \n",
       "3         Children & Family Movies, Music & Musicals   \n",
       "4  Documentaries, International Movies, Music & M...   \n",
       "\n",
       "                                         description  \n",
       "0  Barack and Michelle Obama talk with directors ...  \n",
       "1  A powerful demon has been sealed away for 200 ...  \n",
       "2  A lawyer defends an illiterate man whose explo...  \n",
       "3  A music-loving kinkajou embarks on the journey...  \n",
       "4  Brazilian rapper Emicida brings his progressiv...  "
      ]
     },
     "execution_count": 2,
     "metadata": {},
     "output_type": "execute_result"
    }
   ],
   "source": [
    "df.head()"
   ]
  },
  {
   "cell_type": "code",
   "execution_count": 3,
   "id": "b5ab861f-e837-49ac-8db4-a4544f0218b3",
   "metadata": {},
   "outputs": [
    {
     "name": "stdout",
     "output_type": "stream",
     "text": [
      "<class 'pandas.core.frame.DataFrame'>\n",
      "RangeIndex: 8807 entries, 0 to 8806\n",
      "Data columns (total 12 columns):\n",
      " #   Column        Non-Null Count  Dtype \n",
      "---  ------        --------------  ----- \n",
      " 0   show_id       8807 non-null   object\n",
      " 1   type          8807 non-null   object\n",
      " 2   title         8807 non-null   object\n",
      " 3   director      6173 non-null   object\n",
      " 4   cast          7982 non-null   object\n",
      " 5   country       7976 non-null   object\n",
      " 6   date_added    8797 non-null   object\n",
      " 7   release_year  8807 non-null   int64 \n",
      " 8   rating        8800 non-null   object\n",
      " 9   duration      8807 non-null   object\n",
      " 10  listed_in     8807 non-null   object\n",
      " 11  description   8807 non-null   object\n",
      "dtypes: int64(1), object(11)\n",
      "memory usage: 825.8+ KB\n"
     ]
    }
   ],
   "source": [
    "df.info()"
   ]
  },
  {
   "cell_type": "code",
   "execution_count": 4,
   "id": "06fc9b28-fdd8-4a86-be8d-b2954f5d9070",
   "metadata": {},
   "outputs": [
    {
     "data": {
      "text/html": [
       "<div>\n",
       "<style scoped>\n",
       "    .dataframe tbody tr th:only-of-type {\n",
       "        vertical-align: middle;\n",
       "    }\n",
       "\n",
       "    .dataframe tbody tr th {\n",
       "        vertical-align: top;\n",
       "    }\n",
       "\n",
       "    .dataframe thead th {\n",
       "        text-align: right;\n",
       "    }\n",
       "</style>\n",
       "<table border=\"1\" class=\"dataframe\">\n",
       "  <thead>\n",
       "    <tr style=\"text-align: right;\">\n",
       "      <th></th>\n",
       "      <th>release_year</th>\n",
       "    </tr>\n",
       "  </thead>\n",
       "  <tbody>\n",
       "    <tr>\n",
       "      <th>count</th>\n",
       "      <td>8807.000000</td>\n",
       "    </tr>\n",
       "    <tr>\n",
       "      <th>mean</th>\n",
       "      <td>2014.180198</td>\n",
       "    </tr>\n",
       "    <tr>\n",
       "      <th>std</th>\n",
       "      <td>8.819312</td>\n",
       "    </tr>\n",
       "    <tr>\n",
       "      <th>min</th>\n",
       "      <td>1925.000000</td>\n",
       "    </tr>\n",
       "    <tr>\n",
       "      <th>25%</th>\n",
       "      <td>2013.000000</td>\n",
       "    </tr>\n",
       "    <tr>\n",
       "      <th>50%</th>\n",
       "      <td>2017.000000</td>\n",
       "    </tr>\n",
       "    <tr>\n",
       "      <th>75%</th>\n",
       "      <td>2019.000000</td>\n",
       "    </tr>\n",
       "    <tr>\n",
       "      <th>max</th>\n",
       "      <td>2021.000000</td>\n",
       "    </tr>\n",
       "  </tbody>\n",
       "</table>\n",
       "</div>"
      ],
      "text/plain": [
       "       release_year\n",
       "count   8807.000000\n",
       "mean    2014.180198\n",
       "std        8.819312\n",
       "min     1925.000000\n",
       "25%     2013.000000\n",
       "50%     2017.000000\n",
       "75%     2019.000000\n",
       "max     2021.000000"
      ]
     },
     "execution_count": 4,
     "metadata": {},
     "output_type": "execute_result"
    }
   ],
   "source": [
    "df.describe()"
   ]
  },
  {
   "cell_type": "markdown",
   "id": "e556422b-be64-4e25-882e-29f26c5acd3a",
   "metadata": {},
   "source": [
    "Checking for nulls and duplicate values"
   ]
  },
  {
   "cell_type": "code",
   "execution_count": 5,
   "id": "119fcf55-ba69-4c42-bc3b-91d88529e2f1",
   "metadata": {},
   "outputs": [
    {
     "data": {
      "text/plain": [
       "show_id            0\n",
       "type               0\n",
       "title              0\n",
       "director        2634\n",
       "cast             825\n",
       "country          831\n",
       "date_added        10\n",
       "release_year       0\n",
       "rating             7\n",
       "duration           0\n",
       "listed_in          0\n",
       "description        0\n",
       "dtype: int64"
      ]
     },
     "execution_count": 5,
     "metadata": {},
     "output_type": "execute_result"
    }
   ],
   "source": [
    "df.isna().sum()"
   ]
  },
  {
   "cell_type": "code",
   "execution_count": 6,
   "id": "75ae006a-ac18-482b-bb45-eab98c469c94",
   "metadata": {},
   "outputs": [
    {
     "data": {
      "text/plain": [
       "0"
      ]
     },
     "execution_count": 6,
     "metadata": {},
     "output_type": "execute_result"
    }
   ],
   "source": [
    "df.duplicated().sum()"
   ]
  },
  {
   "cell_type": "markdown",
   "id": "3124bcc7-8d31-4744-83d4-859381822906",
   "metadata": {},
   "source": [
    "## 2. Clean Data\r",
    "Establishing another dataframe to work from."
   ]
  },
  {
   "cell_type": "code",
   "execution_count": 7,
   "id": "a7c27a77-93fb-41bf-bf7e-f89d7e87680a",
   "metadata": {},
   "outputs": [
    {
     "data": {
      "text/html": [
       "<div>\n",
       "<style scoped>\n",
       "    .dataframe tbody tr th:only-of-type {\n",
       "        vertical-align: middle;\n",
       "    }\n",
       "\n",
       "    .dataframe tbody tr th {\n",
       "        vertical-align: top;\n",
       "    }\n",
       "\n",
       "    .dataframe thead th {\n",
       "        text-align: right;\n",
       "    }\n",
       "</style>\n",
       "<table border=\"1\" class=\"dataframe\">\n",
       "  <thead>\n",
       "    <tr style=\"text-align: right;\">\n",
       "      <th></th>\n",
       "      <th>type</th>\n",
       "      <th>title</th>\n",
       "      <th>date_added</th>\n",
       "      <th>release_year</th>\n",
       "      <th>rating</th>\n",
       "      <th>duration</th>\n",
       "      <th>listed_in</th>\n",
       "    </tr>\n",
       "  </thead>\n",
       "  <tbody>\n",
       "    <tr>\n",
       "      <th>0</th>\n",
       "      <td>Movie</td>\n",
       "      <td>American Factory: A Conversation with the Obamas</td>\n",
       "      <td>September 5, 2019</td>\n",
       "      <td>2019</td>\n",
       "      <td>TV-G</td>\n",
       "      <td>10 min</td>\n",
       "      <td>Documentaries</td>\n",
       "    </tr>\n",
       "    <tr>\n",
       "      <th>1</th>\n",
       "      <td>Movie</td>\n",
       "      <td>InuYasha the Movie: Affections Touching Across...</td>\n",
       "      <td>September 15, 2021</td>\n",
       "      <td>2001</td>\n",
       "      <td>TV-PG</td>\n",
       "      <td>100 min</td>\n",
       "      <td>Action &amp; Adventure, Anime Features, Internatio...</td>\n",
       "    </tr>\n",
       "    <tr>\n",
       "      <th>2</th>\n",
       "      <td>Movie</td>\n",
       "      <td>El patrón, radiografía de un crimen</td>\n",
       "      <td>September 1, 2021</td>\n",
       "      <td>2014</td>\n",
       "      <td>TV-MA</td>\n",
       "      <td>100 min</td>\n",
       "      <td>Dramas, International Movies, Thrillers</td>\n",
       "    </tr>\n",
       "    <tr>\n",
       "      <th>3</th>\n",
       "      <td>Movie</td>\n",
       "      <td>Vivo</td>\n",
       "      <td>August 6, 2021</td>\n",
       "      <td>2021</td>\n",
       "      <td>PG</td>\n",
       "      <td>100 min</td>\n",
       "      <td>Children &amp; Family Movies, Music &amp; Musicals</td>\n",
       "    </tr>\n",
       "    <tr>\n",
       "      <th>4</th>\n",
       "      <td>Movie</td>\n",
       "      <td>Emicida: AmarElo - Live in São Paulo</td>\n",
       "      <td>July 15, 2021</td>\n",
       "      <td>2021</td>\n",
       "      <td>TV-MA</td>\n",
       "      <td>100 min</td>\n",
       "      <td>Documentaries, International Movies, Music &amp; M...</td>\n",
       "    </tr>\n",
       "  </tbody>\n",
       "</table>\n",
       "</div>"
      ],
      "text/plain": [
       "    type                                              title  \\\n",
       "0  Movie   American Factory: A Conversation with the Obamas   \n",
       "1  Movie  InuYasha the Movie: Affections Touching Across...   \n",
       "2  Movie                El patrón, radiografía de un crimen   \n",
       "3  Movie                                               Vivo   \n",
       "4  Movie               Emicida: AmarElo - Live in São Paulo   \n",
       "\n",
       "           date_added  release_year rating duration  \\\n",
       "0   September 5, 2019          2019   TV-G   10 min   \n",
       "1  September 15, 2021          2001  TV-PG  100 min   \n",
       "2   September 1, 2021          2014  TV-MA  100 min   \n",
       "3      August 6, 2021          2021     PG  100 min   \n",
       "4       July 15, 2021          2021  TV-MA  100 min   \n",
       "\n",
       "                                           listed_in  \n",
       "0                                      Documentaries  \n",
       "1  Action & Adventure, Anime Features, Internatio...  \n",
       "2            Dramas, International Movies, Thrillers  \n",
       "3         Children & Family Movies, Music & Musicals  \n",
       "4  Documentaries, International Movies, Music & M...  "
      ]
     },
     "execution_count": 7,
     "metadata": {},
     "output_type": "execute_result"
    }
   ],
   "source": [
    "# Dropping the columns which are not useful for analysis and due to large volume of missing data\n",
    "df_clean = df.drop(['director','cast', 'country','description','show_id'], axis=1)\n",
    "df_clean.head()"
   ]
  },
  {
   "cell_type": "markdown",
   "id": "eae568fc-6c93-40fb-add1-86506b7d69cd",
   "metadata": {},
   "source": [
    "Adding a new 'streaming_platform' column which will be useful when we merge the data for visualization purposes"
   ]
  },
  {
   "cell_type": "code",
   "execution_count": 8,
   "id": "db6aa9b2-0eff-4a12-88db-87f25c1b739f",
   "metadata": {},
   "outputs": [
    {
     "data": {
      "text/html": [
       "<div>\n",
       "<style scoped>\n",
       "    .dataframe tbody tr th:only-of-type {\n",
       "        vertical-align: middle;\n",
       "    }\n",
       "\n",
       "    .dataframe tbody tr th {\n",
       "        vertical-align: top;\n",
       "    }\n",
       "\n",
       "    .dataframe thead th {\n",
       "        text-align: right;\n",
       "    }\n",
       "</style>\n",
       "<table border=\"1\" class=\"dataframe\">\n",
       "  <thead>\n",
       "    <tr style=\"text-align: right;\">\n",
       "      <th></th>\n",
       "      <th>type</th>\n",
       "      <th>title</th>\n",
       "      <th>date_added</th>\n",
       "      <th>release_year</th>\n",
       "      <th>rating</th>\n",
       "      <th>duration</th>\n",
       "      <th>listed_in</th>\n",
       "      <th>streaming_platform</th>\n",
       "    </tr>\n",
       "  </thead>\n",
       "  <tbody>\n",
       "    <tr>\n",
       "      <th>0</th>\n",
       "      <td>Movie</td>\n",
       "      <td>American Factory: A Conversation with the Obamas</td>\n",
       "      <td>September 5, 2019</td>\n",
       "      <td>2019</td>\n",
       "      <td>TV-G</td>\n",
       "      <td>10 min</td>\n",
       "      <td>Documentaries</td>\n",
       "      <td>Netflix</td>\n",
       "    </tr>\n",
       "    <tr>\n",
       "      <th>1</th>\n",
       "      <td>Movie</td>\n",
       "      <td>InuYasha the Movie: Affections Touching Across...</td>\n",
       "      <td>September 15, 2021</td>\n",
       "      <td>2001</td>\n",
       "      <td>TV-PG</td>\n",
       "      <td>100 min</td>\n",
       "      <td>Action &amp; Adventure, Anime Features, Internatio...</td>\n",
       "      <td>Netflix</td>\n",
       "    </tr>\n",
       "    <tr>\n",
       "      <th>2</th>\n",
       "      <td>Movie</td>\n",
       "      <td>El patrón, radiografía de un crimen</td>\n",
       "      <td>September 1, 2021</td>\n",
       "      <td>2014</td>\n",
       "      <td>TV-MA</td>\n",
       "      <td>100 min</td>\n",
       "      <td>Dramas, International Movies, Thrillers</td>\n",
       "      <td>Netflix</td>\n",
       "    </tr>\n",
       "    <tr>\n",
       "      <th>3</th>\n",
       "      <td>Movie</td>\n",
       "      <td>Vivo</td>\n",
       "      <td>August 6, 2021</td>\n",
       "      <td>2021</td>\n",
       "      <td>PG</td>\n",
       "      <td>100 min</td>\n",
       "      <td>Children &amp; Family Movies, Music &amp; Musicals</td>\n",
       "      <td>Netflix</td>\n",
       "    </tr>\n",
       "    <tr>\n",
       "      <th>4</th>\n",
       "      <td>Movie</td>\n",
       "      <td>Emicida: AmarElo - Live in São Paulo</td>\n",
       "      <td>July 15, 2021</td>\n",
       "      <td>2021</td>\n",
       "      <td>TV-MA</td>\n",
       "      <td>100 min</td>\n",
       "      <td>Documentaries, International Movies, Music &amp; M...</td>\n",
       "      <td>Netflix</td>\n",
       "    </tr>\n",
       "  </tbody>\n",
       "</table>\n",
       "</div>"
      ],
      "text/plain": [
       "    type                                              title  \\\n",
       "0  Movie   American Factory: A Conversation with the Obamas   \n",
       "1  Movie  InuYasha the Movie: Affections Touching Across...   \n",
       "2  Movie                El patrón, radiografía de un crimen   \n",
       "3  Movie                                               Vivo   \n",
       "4  Movie               Emicida: AmarElo - Live in São Paulo   \n",
       "\n",
       "           date_added  release_year rating duration  \\\n",
       "0   September 5, 2019          2019   TV-G   10 min   \n",
       "1  September 15, 2021          2001  TV-PG  100 min   \n",
       "2   September 1, 2021          2014  TV-MA  100 min   \n",
       "3      August 6, 2021          2021     PG  100 min   \n",
       "4       July 15, 2021          2021  TV-MA  100 min   \n",
       "\n",
       "                                           listed_in streaming_platform  \n",
       "0                                      Documentaries            Netflix  \n",
       "1  Action & Adventure, Anime Features, Internatio...            Netflix  \n",
       "2            Dramas, International Movies, Thrillers            Netflix  \n",
       "3         Children & Family Movies, Music & Musicals            Netflix  \n",
       "4  Documentaries, International Movies, Music & M...            Netflix  "
      ]
     },
     "execution_count": 8,
     "metadata": {},
     "output_type": "execute_result"
    }
   ],
   "source": [
    "df_clean.insert(7, 'streaming_platform', 'Netflix', allow_duplicates = True)\n",
    "df_clean.head()"
   ]
  },
  {
   "cell_type": "code",
   "execution_count": 9,
   "id": "5f4a8eb0-330a-4a12-8fc2-5f3382b174f1",
   "metadata": {},
   "outputs": [
    {
     "data": {
      "text/plain": [
       "type                   0\n",
       "title                  0\n",
       "date_added            10\n",
       "release_year           0\n",
       "rating                 7\n",
       "duration               0\n",
       "listed_in              0\n",
       "streaming_platform     0\n",
       "dtype: int64"
      ]
     },
     "execution_count": 9,
     "metadata": {},
     "output_type": "execute_result"
    }
   ],
   "source": [
    "#checking for null values \n",
    "df_clean.isna().sum()"
   ]
  },
  {
   "cell_type": "markdown",
   "id": "b6d142e3-b1bf-40e8-a2b0-45768d67fafb",
   "metadata": {},
   "source": [
    "## Separating into 2 dataframes for movies and TV_shows"
   ]
  },
  {
   "cell_type": "code",
   "execution_count": 10,
   "id": "8d7c0038-c98e-4680-b137-3a65bec416f4",
   "metadata": {},
   "outputs": [
    {
     "name": "stdout",
     "output_type": "stream",
     "text": [
      "<class 'pandas.core.frame.DataFrame'>\n",
      "Index: 6131 entries, 0 to 6130\n",
      "Data columns (total 8 columns):\n",
      " #   Column              Non-Null Count  Dtype \n",
      "---  ------              --------------  ----- \n",
      " 0   type                6131 non-null   object\n",
      " 1   title               6131 non-null   object\n",
      " 2   date_added          6131 non-null   object\n",
      " 3   release_year        6131 non-null   int64 \n",
      " 4   rating              6126 non-null   object\n",
      " 5   duration            6131 non-null   object\n",
      " 6   listed_in           6131 non-null   object\n",
      " 7   streaming_platform  6131 non-null   object\n",
      "dtypes: int64(1), object(7)\n",
      "memory usage: 431.1+ KB\n"
     ]
    }
   ],
   "source": [
    "#Dataframe 1 - Separating the movies type into a new dataframe\n",
    "netflix_movies = df_clean.loc[df_clean['type']== 'Movie']\n",
    "netflix_movies.info()"
   ]
  },
  {
   "cell_type": "code",
   "execution_count": 11,
   "id": "c505b878-7b1e-47e0-b262-a77a5bc71b7a",
   "metadata": {},
   "outputs": [
    {
     "data": {
      "text/plain": [
       "type                  0\n",
       "title                 0\n",
       "date_added            0\n",
       "release_year          0\n",
       "rating                5\n",
       "duration              0\n",
       "listed_in             0\n",
       "streaming_platform    0\n",
       "dtype: int64"
      ]
     },
     "execution_count": 11,
     "metadata": {},
     "output_type": "execute_result"
    }
   ],
   "source": [
    "#checking for null values \n",
    "netflix_movies.isna().sum()"
   ]
  },
  {
   "cell_type": "code",
   "execution_count": 12,
   "id": "d37ab191-2610-4a68-b883-65110edd6e99",
   "metadata": {},
   "outputs": [
    {
     "data": {
      "text/plain": [
       "rating\n",
       "TV-MA       2062\n",
       "TV-14       1427\n",
       "R            797\n",
       "TV-PG        540\n",
       "PG-13        490\n",
       "PG           287\n",
       "TV-Y7        139\n",
       "TV-Y         131\n",
       "TV-G         126\n",
       "NR            75\n",
       "G             41\n",
       "TV-Y7-FV       5\n",
       "UR             3\n",
       "NC-17          3\n",
       "Name: count, dtype: int64"
      ]
     },
     "execution_count": 12,
     "metadata": {},
     "output_type": "execute_result"
    }
   ],
   "source": [
    "netflix_movies['rating'].value_counts()"
   ]
  },
  {
   "cell_type": "code",
   "execution_count": 13,
   "id": "eb77b935-c37c-4b4f-87b6-2efb25f1df3a",
   "metadata": {},
   "outputs": [],
   "source": [
    "#Dropping the null values\n",
    "netflix_movies = netflix_movies.dropna(axis = 0) #dropping the na row "
   ]
  },
  {
   "cell_type": "code",
   "execution_count": 14,
   "id": "01d0844a-91bd-4e71-8241-2b1bf01ea024",
   "metadata": {},
   "outputs": [
    {
     "data": {
      "text/plain": [
       "type                  0\n",
       "title                 0\n",
       "date_added            0\n",
       "release_year          0\n",
       "rating                0\n",
       "duration              0\n",
       "listed_in             0\n",
       "streaming_platform    0\n",
       "dtype: int64"
      ]
     },
     "execution_count": 14,
     "metadata": {},
     "output_type": "execute_result"
    }
   ],
   "source": [
    "#Final check for missing values - looks like data is clean\n",
    "netflix_movies.isna().sum()"
   ]
  },
  {
   "cell_type": "code",
   "execution_count": 15,
   "id": "f7c6efbf-585e-4c23-aead-cadc55c5d530",
   "metadata": {},
   "outputs": [
    {
     "name": "stdout",
     "output_type": "stream",
     "text": [
      "<class 'pandas.core.frame.DataFrame'>\n",
      "Index: 6126 entries, 0 to 6127\n",
      "Data columns (total 8 columns):\n",
      " #   Column              Non-Null Count  Dtype \n",
      "---  ------              --------------  ----- \n",
      " 0   type                6126 non-null   object\n",
      " 1   title               6126 non-null   object\n",
      " 2   date_added          6126 non-null   object\n",
      " 3   release_year        6126 non-null   int64 \n",
      " 4   rating              6126 non-null   object\n",
      " 5   duration            6126 non-null   object\n",
      " 6   listed_in           6126 non-null   object\n",
      " 7   streaming_platform  6126 non-null   object\n",
      "dtypes: int64(1), object(7)\n",
      "memory usage: 430.7+ KB\n"
     ]
    }
   ],
   "source": [
    "netflix_movies.info()"
   ]
  },
  {
   "cell_type": "code",
   "execution_count": 16,
   "id": "0c163c8c-59ae-4c74-aedb-d19cfc552ec1",
   "metadata": {},
   "outputs": [
    {
     "name": "stdout",
     "output_type": "stream",
     "text": [
      "<class 'pandas.core.frame.DataFrame'>\n",
      "Index: 2676 entries, 6131 to 8806\n",
      "Data columns (total 8 columns):\n",
      " #   Column              Non-Null Count  Dtype \n",
      "---  ------              --------------  ----- \n",
      " 0   type                2676 non-null   object\n",
      " 1   title               2676 non-null   object\n",
      " 2   date_added          2666 non-null   object\n",
      " 3   release_year        2676 non-null   int64 \n",
      " 4   rating              2674 non-null   object\n",
      " 5   duration            2676 non-null   object\n",
      " 6   listed_in           2676 non-null   object\n",
      " 7   streaming_platform  2676 non-null   object\n",
      "dtypes: int64(1), object(7)\n",
      "memory usage: 188.2+ KB\n"
     ]
    }
   ],
   "source": [
    "# Dataframe 2 - Separating the TV Show type into a new dataframe\n",
    "netflix_tv = df_clean.loc[df_clean['type']== 'TV Show']\n",
    "netflix_tv.info()"
   ]
  },
  {
   "cell_type": "code",
   "execution_count": 17,
   "id": "9d66c9ce-ea55-41e1-8fc1-7754d83f0622",
   "metadata": {},
   "outputs": [
    {
     "data": {
      "text/plain": [
       "type                   0\n",
       "title                  0\n",
       "date_added            10\n",
       "release_year           0\n",
       "rating                 2\n",
       "duration               0\n",
       "listed_in              0\n",
       "streaming_platform     0\n",
       "dtype: int64"
      ]
     },
     "execution_count": 17,
     "metadata": {},
     "output_type": "execute_result"
    }
   ],
   "source": [
    "#Checking for null values\n",
    "netflix_tv.isna().sum()"
   ]
  },
  {
   "cell_type": "code",
   "execution_count": 18,
   "id": "c841253e-fea5-44a9-97b7-de1816a28a65",
   "metadata": {},
   "outputs": [
    {
     "data": {
      "text/plain": [
       "date_added\n",
       "July 6, 2021        31\n",
       "January 1, 2016     23\n",
       "August 1, 2017      22\n",
       "June 19, 2021       21\n",
       "July 1, 2017        19\n",
       "                    ..\n",
       "June 25, 2018        1\n",
       "June 26, 2018        1\n",
       "July 8, 2018         1\n",
       "July 18, 2018        1\n",
       " January 1, 2016     1\n",
       "Name: count, Length: 1051, dtype: int64"
      ]
     },
     "execution_count": 18,
     "metadata": {},
     "output_type": "execute_result"
    }
   ],
   "source": [
    "netflix_tv['date_added'].value_counts()"
   ]
  },
  {
   "cell_type": "markdown",
   "id": "9cc9d262-afde-4c52-ac5a-8b44a0308e75",
   "metadata": {},
   "source": [
    "Imputing the date_added with mode strategy"
   ]
  },
  {
   "cell_type": "code",
   "execution_count": 19,
   "id": "d8c04812-043b-4e88-912d-1e18b0d8b2ba",
   "metadata": {},
   "outputs": [],
   "source": [
    "from sklearn.impute import SimpleImputer # import the SimpleImputer class\n",
    "cat_imputer = SimpleImputer(strategy='most_frequent') \n",
    "netflix_tv.loc[:,'date_added'] = cat_imputer.fit_transform(netflix_tv['date_added'].values.reshape(-1, 1)).ravel()"
   ]
  },
  {
   "cell_type": "code",
   "execution_count": 20,
   "id": "2d2c5cf3-46be-434c-857e-7b47aa0fa8f8",
   "metadata": {},
   "outputs": [
    {
     "data": {
      "text/plain": [
       "type                  0\n",
       "title                 0\n",
       "date_added            0\n",
       "release_year          0\n",
       "rating                2\n",
       "duration              0\n",
       "listed_in             0\n",
       "streaming_platform    0\n",
       "dtype: int64"
      ]
     },
     "execution_count": 20,
     "metadata": {},
     "output_type": "execute_result"
    }
   ],
   "source": [
    "netflix_tv.isna().sum()"
   ]
  },
  {
   "cell_type": "code",
   "execution_count": 21,
   "id": "6f2d72e1-67a0-4f56-8f4b-ae07826bc283",
   "metadata": {},
   "outputs": [],
   "source": [
    "#dropping the null values rows in rating\n",
    "netflix_tv = netflix_tv.dropna(axis = 0)"
   ]
  },
  {
   "cell_type": "code",
   "execution_count": 22,
   "id": "beb8946b-24f8-4ebc-bab5-9f80147a8180",
   "metadata": {},
   "outputs": [
    {
     "data": {
      "text/plain": [
       "type                  0\n",
       "title                 0\n",
       "date_added            0\n",
       "release_year          0\n",
       "rating                0\n",
       "duration              0\n",
       "listed_in             0\n",
       "streaming_platform    0\n",
       "dtype: int64"
      ]
     },
     "execution_count": 22,
     "metadata": {},
     "output_type": "execute_result"
    }
   ],
   "source": [
    "#Final check for missing values - looks like data is clean\n",
    "netflix_tv.isna().sum()"
   ]
  },
  {
   "cell_type": "code",
   "execution_count": 23,
   "id": "1dfa4390-75c4-44e6-aedc-b37ce4b3eb41",
   "metadata": {},
   "outputs": [
    {
     "name": "stdout",
     "output_type": "stream",
     "text": [
      "<class 'pandas.core.frame.DataFrame'>\n",
      "Index: 2674 entries, 6131 to 8806\n",
      "Data columns (total 8 columns):\n",
      " #   Column              Non-Null Count  Dtype \n",
      "---  ------              --------------  ----- \n",
      " 0   type                2674 non-null   object\n",
      " 1   title               2674 non-null   object\n",
      " 2   date_added          2674 non-null   object\n",
      " 3   release_year        2674 non-null   int64 \n",
      " 4   rating              2674 non-null   object\n",
      " 5   duration            2674 non-null   object\n",
      " 6   listed_in           2674 non-null   object\n",
      " 7   streaming_platform  2674 non-null   object\n",
      "dtypes: int64(1), object(7)\n",
      "memory usage: 188.0+ KB\n"
     ]
    }
   ],
   "source": [
    "netflix_tv.info()"
   ]
  },
  {
   "cell_type": "markdown",
   "id": "48fa7d6e-e0f2-4666-9adc-c011c620b16e",
   "metadata": {},
   "source": [
    "## Data Structure\r",
    "We are aiming to slice the duration column to get the duration values in mins or seasons (as an integer) in movies and TV shows dataframe and add that to a new_column for analysis purposes"
   ]
  },
  {
   "cell_type": "code",
   "execution_count": 24,
   "id": "b960989c-7e1c-4306-9e73-ba5207b2c4b2",
   "metadata": {},
   "outputs": [],
   "source": [
    "#split duration columns\n",
    "def slice_min(min):\n",
    "    return int(min[:-4])\n",
    "netflix_movies['duration_minutes'] = netflix_movies['duration'].apply(slice_min)"
   ]
  },
  {
   "cell_type": "code",
   "execution_count": 25,
   "id": "a4cbf54c-0dbe-44c5-918b-2a987bf5cded",
   "metadata": {},
   "outputs": [],
   "source": [
    "netflix_movies = netflix_movies.drop('duration', axis = 1)"
   ]
  },
  {
   "cell_type": "code",
   "execution_count": 26,
   "id": "464f8f2f-e48a-4f7b-80d5-6afda237f621",
   "metadata": {},
   "outputs": [
    {
     "name": "stdout",
     "output_type": "stream",
     "text": [
      "<class 'pandas.core.frame.DataFrame'>\n",
      "Index: 6126 entries, 0 to 6127\n",
      "Data columns (total 8 columns):\n",
      " #   Column              Non-Null Count  Dtype \n",
      "---  ------              --------------  ----- \n",
      " 0   type                6126 non-null   object\n",
      " 1   title               6126 non-null   object\n",
      " 2   date_added          6126 non-null   object\n",
      " 3   release_year        6126 non-null   int64 \n",
      " 4   rating              6126 non-null   object\n",
      " 5   listed_in           6126 non-null   object\n",
      " 6   streaming_platform  6126 non-null   object\n",
      " 7   duration_minutes    6126 non-null   int64 \n",
      "dtypes: int64(2), object(6)\n",
      "memory usage: 430.7+ KB\n"
     ]
    }
   ],
   "source": [
    "netflix_movies.info()"
   ]
  },
  {
   "cell_type": "markdown",
   "id": "cc9eef7d-b499-407d-990f-c918985494b7",
   "metadata": {},
   "source": [
    "## Checking for Erroneous Values"
   ]
  },
  {
   "cell_type": "code",
   "execution_count": 27,
   "id": "a45b4944-1994-45a6-8670-77f90acfaa4e",
   "metadata": {},
   "outputs": [
    {
     "name": "stdout",
     "output_type": "stream",
     "text": [
      "type\n",
      "Movie    6126\n",
      "Name: count, dtype: int64\n",
      "title\n",
      "22-Jul                                              2\n",
      "15-Aug                                              2\n",
      "American Factory: A Conversation with the Obamas    1\n",
      "Thiago Ventura: POKAS                               1\n",
      "Echo in the Canyon                                  1\n",
      "                                                   ..\n",
      "Hold the Dark                                       1\n",
      "Zindagi Kitni Haseen Hay                            1\n",
      "Dovlatov                                            1\n",
      "Gun City                                            1\n",
      "VS.                                                 1\n",
      "Name: count, Length: 6124, dtype: int64\n",
      "date_added\n",
      "January 1, 2020      97\n",
      "November 1, 2019     75\n",
      "March 1, 2018        72\n",
      "December 31, 2019    67\n",
      "October 1, 2018      64\n",
      "                     ..\n",
      "April 15, 2014        1\n",
      "March 8, 2018         1\n",
      "December 17, 2015     1\n",
      "December 18, 2014     1\n",
      "April 14, 2018        1\n",
      "Name: count, Length: 1531, dtype: int64\n",
      "release_year\n",
      "2018    767\n",
      "2017    765\n",
      "2016    658\n",
      "2019    633\n",
      "2020    517\n",
      "       ... \n",
      "1966      1\n",
      "1961      1\n",
      "1963      1\n",
      "1947      1\n",
      "1946      1\n",
      "Name: count, Length: 73, dtype: int64\n",
      "rating\n",
      "TV-MA       2062\n",
      "TV-14       1427\n",
      "R            797\n",
      "TV-PG        540\n",
      "PG-13        490\n",
      "PG           287\n",
      "TV-Y7        139\n",
      "TV-Y         131\n",
      "TV-G         126\n",
      "NR            75\n",
      "G             41\n",
      "TV-Y7-FV       5\n",
      "UR             3\n",
      "NC-17          3\n",
      "Name: count, dtype: int64\n",
      "listed_in\n",
      "Dramas, International Movies                                        362\n",
      "Documentaries                                                       359\n",
      "Stand-Up Comedy                                                     334\n",
      "Comedies, Dramas, International Movies                              274\n",
      "Dramas, Independent Movies, International Movies                    252\n",
      "                                                                   ... \n",
      "Comedies, LGBTQ Movies, Music & Musicals                              1\n",
      "Classic Movies, Thrillers                                             1\n",
      "Dramas, Faith & Spirituality, Independent Movies                      1\n",
      "Action & Adventure, Sci-Fi & Fantasy, Sports Movies                   1\n",
      "Action & Adventure, Children & Family Movies, Independent Movies      1\n",
      "Name: count, Length: 278, dtype: int64\n",
      "streaming_platform\n",
      "Netflix    6126\n",
      "Name: count, dtype: int64\n",
      "duration_minutes\n",
      "90     152\n",
      "93     146\n",
      "94     146\n",
      "97     146\n",
      "91     144\n",
      "      ... \n",
      "253      1\n",
      "273      1\n",
      "3        1\n",
      "312      1\n",
      "196      1\n",
      "Name: count, Length: 205, dtype: int64\n"
     ]
    }
   ],
   "source": [
    "print(netflix_movies['type'].value_counts())\n",
    "print(netflix_movies['title'].value_counts())\n",
    "print(netflix_movies['date_added'].value_counts())\n",
    "print(netflix_movies['release_year'].value_counts())\n",
    "print(netflix_movies['rating'].value_counts())\n",
    "print(netflix_movies['listed_in'].value_counts())\n",
    "print(netflix_movies['streaming_platform'].value_counts())\n",
    "print(netflix_movies['duration_minutes'].value_counts())"
   ]
  },
  {
   "cell_type": "code",
   "execution_count": 28,
   "id": "a65d79c1-b1ca-427f-a454-1ce2ea64e9cc",
   "metadata": {},
   "outputs": [],
   "source": [
    "#Replacing UR and NR rating as they are both mean the same type of rating\n",
    "netflix_movies = netflix_movies.replace('UR', 'NR')"
   ]
  },
  {
   "cell_type": "code",
   "execution_count": 29,
   "id": "c536277c-9b27-48a4-8e61-66e1033f98b6",
   "metadata": {},
   "outputs": [
    {
     "name": "stdout",
     "output_type": "stream",
     "text": [
      "rating\n",
      "TV-MA       2062\n",
      "TV-14       1427\n",
      "R            797\n",
      "TV-PG        540\n",
      "PG-13        490\n",
      "PG           287\n",
      "TV-Y7        139\n",
      "TV-Y         131\n",
      "TV-G         126\n",
      "NR            78\n",
      "G             41\n",
      "TV-Y7-FV       5\n",
      "NC-17          3\n",
      "Name: count, dtype: int64\n"
     ]
    }
   ],
   "source": [
    "print(netflix_movies['rating'].value_counts())"
   ]
  },
  {
   "cell_type": "markdown",
   "id": "89925398-d777-41b4-a7cd-d3b47c19dc8b",
   "metadata": {},
   "source": [
    "## Data Structure\r",
    "We are aiming to slice the duration column to get the duration values in mins or seasons (as an integer) in movies and TV shows dataframe and add that to a new_column for analysis purposes"
   ]
  },
  {
   "cell_type": "code",
   "execution_count": 30,
   "id": "46911b01-ec5c-4eb0-9678-f77189bff42f",
   "metadata": {},
   "outputs": [],
   "source": [
    "def slice_season(season):\n",
    "    if len(season) <= 8:\n",
    "        return (int(season[:-7]))\n",
    "    else:\n",
    "        return (int(season[:-8]))\n",
    "netflix_tv['duration_seasons'] = netflix_tv['duration'].apply(slice_season)"
   ]
  },
  {
   "cell_type": "code",
   "execution_count": 31,
   "id": "98a6974d-5ddc-4be1-a11f-2ca2c3c50173",
   "metadata": {},
   "outputs": [],
   "source": [
    "netflix_tv = netflix_tv.drop('duration', axis = 1)"
   ]
  },
  {
   "cell_type": "code",
   "execution_count": 32,
   "id": "44518940-d354-49d8-907e-828b92818a92",
   "metadata": {},
   "outputs": [
    {
     "name": "stdout",
     "output_type": "stream",
     "text": [
      "<class 'pandas.core.frame.DataFrame'>\n",
      "Index: 2674 entries, 6131 to 8806\n",
      "Data columns (total 8 columns):\n",
      " #   Column              Non-Null Count  Dtype \n",
      "---  ------              --------------  ----- \n",
      " 0   type                2674 non-null   object\n",
      " 1   title               2674 non-null   object\n",
      " 2   date_added          2674 non-null   object\n",
      " 3   release_year        2674 non-null   int64 \n",
      " 4   rating              2674 non-null   object\n",
      " 5   listed_in           2674 non-null   object\n",
      " 6   streaming_platform  2674 non-null   object\n",
      " 7   duration_seasons    2674 non-null   int64 \n",
      "dtypes: int64(2), object(6)\n",
      "memory usage: 188.0+ KB\n"
     ]
    }
   ],
   "source": [
    "netflix_tv.info()"
   ]
  },
  {
   "cell_type": "markdown",
   "id": "c9a8a2a6-5072-47ae-869d-1faba0f3d432",
   "metadata": {},
   "source": [
    "# Checking for Erroneous Values"
   ]
  },
  {
   "cell_type": "code",
   "execution_count": 33,
   "id": "84e70fbc-d4b0-4afe-87b2-8704812b0f74",
   "metadata": {},
   "outputs": [
    {
     "name": "stdout",
     "output_type": "stream",
     "text": [
      "type\n",
      "TV Show    2674\n",
      "Name: count, dtype: int64\n",
      "title\n",
      "Feb-09                       2\n",
      "Ganglands                    1\n",
      "World's Busiest Cities       1\n",
      "What Happens to My Family    1\n",
      "What Is Love?                1\n",
      "                            ..\n",
      "What If?                     1\n",
      "Crime Diaries: Night Out     1\n",
      "Flinch                       1\n",
      "Tuca & Bertie                1\n",
      "The Office (U.S.)            1\n",
      "Name: count, Length: 2673, dtype: int64\n",
      "date_added\n",
      "July 6, 2021        41\n",
      "January 1, 2016     23\n",
      "August 1, 2017      22\n",
      "June 19, 2021       21\n",
      "July 1, 2017        19\n",
      "                    ..\n",
      "June 25, 2018        1\n",
      "June 26, 2018        1\n",
      "July 8, 2018         1\n",
      "July 18, 2018        1\n",
      " January 1, 2016     1\n",
      "Name: count, Length: 1051, dtype: int64\n",
      "release_year\n",
      "2020    436\n",
      "2019    397\n",
      "2018    380\n",
      "2021    315\n",
      "2017    265\n",
      "2016    244\n",
      "2015    161\n",
      "2014     88\n",
      "2012     64\n",
      "2013     62\n",
      "2010     40\n",
      "2011     40\n",
      "2009     34\n",
      "2008     23\n",
      "2007     14\n",
      "2006     14\n",
      "2005     13\n",
      "2003     10\n",
      "2004      9\n",
      "1999      7\n",
      "2002      7\n",
      "2001      5\n",
      "1997      4\n",
      "1998      4\n",
      "2000      4\n",
      "1993      4\n",
      "1992      3\n",
      "1996      3\n",
      "1990      3\n",
      "1994      2\n",
      "1986      2\n",
      "1995      2\n",
      "1988      2\n",
      "1979      1\n",
      "1991      1\n",
      "1981      1\n",
      "1946      1\n",
      "1972      1\n",
      "1985      1\n",
      "1925      1\n",
      "1989      1\n",
      "1945      1\n",
      "1977      1\n",
      "1974      1\n",
      "1963      1\n",
      "1967      1\n",
      "Name: count, dtype: int64\n",
      "rating\n",
      "TV-MA       1145\n",
      "TV-14        733\n",
      "TV-PG        323\n",
      "TV-Y7        195\n",
      "TV-Y         176\n",
      "TV-G          94\n",
      "NR             5\n",
      "R              2\n",
      "TV-Y7-FV       1\n",
      "Name: count, dtype: int64\n",
      "listed_in\n",
      "Kids' TV                                                       220\n",
      "International TV Shows, TV Dramas                              121\n",
      "Crime TV Shows, International TV Shows, TV Dramas              110\n",
      "Kids' TV, TV Comedies                                           98\n",
      "Reality TV                                                      95\n",
      "                                                              ... \n",
      "Reality TV, Science & Nature TV, TV Action & Adventure           1\n",
      "British TV Shows, Docuseries, TV Comedies                        1\n",
      "TV Comedies, TV Mysteries                                        1\n",
      "Crime TV Shows, International TV Shows, TV Sci-Fi & Fantasy      1\n",
      "Crime TV Shows, TV Action & Adventure, TV Sci-Fi & Fantasy       1\n",
      "Name: count, Length: 236, dtype: int64\n",
      "streaming_platform\n",
      "Netflix    2674\n",
      "Name: count, dtype: int64\n",
      "duration_seasons\n",
      "1     1791\n",
      "2      425\n",
      "3      199\n",
      "4       95\n",
      "5       65\n",
      "6       33\n",
      "7       23\n",
      "8       17\n",
      "9        9\n",
      "10       7\n",
      "13       3\n",
      "11       2\n",
      "12       2\n",
      "15       2\n",
      "17       1\n",
      "Name: count, dtype: int64\n"
     ]
    }
   ],
   "source": [
    "print(netflix_tv['type'].value_counts())\n",
    "print(netflix_tv['title'].value_counts())\n",
    "print(netflix_tv['date_added'].value_counts())\n",
    "print(netflix_tv['release_year'].value_counts())\n",
    "print(netflix_tv['rating'].value_counts())\n",
    "print(netflix_tv['listed_in'].value_counts())\n",
    "print(netflix_tv['streaming_platform'].value_counts())\n",
    "print(netflix_tv['duration_seasons'].value_counts())"
   ]
  },
  {
   "cell_type": "markdown",
   "id": "a6ae8dcf-2d72-4e63-b2bc-34649553b0c1",
   "metadata": {},
   "source": [
    "## Export to .csv and complete in another program"
   ]
  },
  {
   "cell_type": "code",
   "execution_count": 34,
   "id": "af5c5bd0-def7-42e0-a689-873c73e81467",
   "metadata": {},
   "outputs": [],
   "source": [
    "tv_df = netflix_tv.to_csv('netflix_tv.csv', index =False)\n",
    "movies_df = netflix_movies.to_csv('netflix_movies.csv', index = False)"
   ]
  }
 ],
 "metadata": {
  "kernelspec": {
   "display_name": "Python 3 (ipykernel)",
   "language": "python",
   "name": "python3"
  },
  "language_info": {
   "codemirror_mode": {
    "name": "ipython",
    "version": 3
   },
   "file_extension": ".py",
   "mimetype": "text/x-python",
   "name": "python",
   "nbconvert_exporter": "python",
   "pygments_lexer": "ipython3",
   "version": "3.11.7"
  }
 },
 "nbformat": 4,
 "nbformat_minor": 5
}
