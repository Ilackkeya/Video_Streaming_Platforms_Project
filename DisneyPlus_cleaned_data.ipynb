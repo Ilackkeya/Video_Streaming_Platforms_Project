{
 "cells": [
  {
   "cell_type": "markdown",
   "id": "07beae87",
   "metadata": {},
   "source": [
    "# 1. Ingest and Access Data"
   ]
  },
  {
   "cell_type": "code",
   "execution_count": 1,
   "id": "90e19e10",
   "metadata": {},
   "outputs": [],
   "source": [
    "import pandas as pd\n",
    "import numpy as np\n",
    "\n",
    "df = pd.read_csv('disney_plus_titles.csv')"
   ]
  },
  {
   "cell_type": "markdown",
   "id": "c7eb10d8",
   "metadata": {},
   "source": [
    "Take a quick look at the headings and data. Pull column names if desired."
   ]
  },
  {
   "cell_type": "code",
   "execution_count": 2,
   "id": "60d3be9e",
   "metadata": {},
   "outputs": [
    {
     "data": {
      "text/html": [
       "<div>\n",
       "<style scoped>\n",
       "    .dataframe tbody tr th:only-of-type {\n",
       "        vertical-align: middle;\n",
       "    }\n",
       "\n",
       "    .dataframe tbody tr th {\n",
       "        vertical-align: top;\n",
       "    }\n",
       "\n",
       "    .dataframe thead th {\n",
       "        text-align: right;\n",
       "    }\n",
       "</style>\n",
       "<table border=\"1\" class=\"dataframe\">\n",
       "  <thead>\n",
       "    <tr style=\"text-align: right;\">\n",
       "      <th></th>\n",
       "      <th>show_id</th>\n",
       "      <th>type</th>\n",
       "      <th>title</th>\n",
       "      <th>director</th>\n",
       "      <th>cast</th>\n",
       "      <th>country</th>\n",
       "      <th>date_added</th>\n",
       "      <th>release_year</th>\n",
       "      <th>rating</th>\n",
       "      <th>duration</th>\n",
       "      <th>listed_in</th>\n",
       "      <th>description</th>\n",
       "    </tr>\n",
       "  </thead>\n",
       "  <tbody>\n",
       "    <tr>\n",
       "      <th>0</th>\n",
       "      <td>s1</td>\n",
       "      <td>Movie</td>\n",
       "      <td>Duck the Halls: A Mickey Mouse Christmas Special</td>\n",
       "      <td>Alonso Ramirez Ramos, Dave Wasson</td>\n",
       "      <td>Chris Diamantopoulos, Tony Anselmo, Tress MacN...</td>\n",
       "      <td>NaN</td>\n",
       "      <td>November 26, 2021</td>\n",
       "      <td>2016</td>\n",
       "      <td>TV-G</td>\n",
       "      <td>23 min</td>\n",
       "      <td>Animation, Family</td>\n",
       "      <td>Join Mickey and the gang as they duck the halls!</td>\n",
       "    </tr>\n",
       "    <tr>\n",
       "      <th>1</th>\n",
       "      <td>s2</td>\n",
       "      <td>Movie</td>\n",
       "      <td>Ernest Saves Christmas</td>\n",
       "      <td>John Cherry</td>\n",
       "      <td>Jim Varney, Noelle Parker, Douglas Seale</td>\n",
       "      <td>NaN</td>\n",
       "      <td>November 26, 2021</td>\n",
       "      <td>1988</td>\n",
       "      <td>PG</td>\n",
       "      <td>91 min</td>\n",
       "      <td>Comedy</td>\n",
       "      <td>Santa Claus passes his magic bag to a new St. ...</td>\n",
       "    </tr>\n",
       "    <tr>\n",
       "      <th>2</th>\n",
       "      <td>s3</td>\n",
       "      <td>Movie</td>\n",
       "      <td>Ice Age: A Mammoth Christmas</td>\n",
       "      <td>Karen Disher</td>\n",
       "      <td>Raymond Albert Romano, John Leguizamo, Denis L...</td>\n",
       "      <td>United States</td>\n",
       "      <td>November 26, 2021</td>\n",
       "      <td>2011</td>\n",
       "      <td>TV-G</td>\n",
       "      <td>23 min</td>\n",
       "      <td>Animation, Comedy, Family</td>\n",
       "      <td>Sid the Sloth is on Santa's naughty list.</td>\n",
       "    </tr>\n",
       "    <tr>\n",
       "      <th>3</th>\n",
       "      <td>s4</td>\n",
       "      <td>Movie</td>\n",
       "      <td>The Queen Family Singalong</td>\n",
       "      <td>Hamish Hamilton</td>\n",
       "      <td>Darren Criss, Adam Lambert, Derek Hough, Alexa...</td>\n",
       "      <td>NaN</td>\n",
       "      <td>November 26, 2021</td>\n",
       "      <td>2021</td>\n",
       "      <td>TV-PG</td>\n",
       "      <td>41 min</td>\n",
       "      <td>Musical</td>\n",
       "      <td>This is real life, not just fantasy!</td>\n",
       "    </tr>\n",
       "    <tr>\n",
       "      <th>4</th>\n",
       "      <td>s5</td>\n",
       "      <td>TV Show</td>\n",
       "      <td>The Beatles: Get Back</td>\n",
       "      <td>NaN</td>\n",
       "      <td>John Lennon, Paul McCartney, George Harrison, ...</td>\n",
       "      <td>NaN</td>\n",
       "      <td>November 25, 2021</td>\n",
       "      <td>2021</td>\n",
       "      <td>NaN</td>\n",
       "      <td>1 Season</td>\n",
       "      <td>Docuseries, Historical, Music</td>\n",
       "      <td>A three-part documentary from Peter Jackson ca...</td>\n",
       "    </tr>\n",
       "  </tbody>\n",
       "</table>\n",
       "</div>"
      ],
      "text/plain": [
       "  show_id     type                                             title  \\\n",
       "0      s1    Movie  Duck the Halls: A Mickey Mouse Christmas Special   \n",
       "1      s2    Movie                            Ernest Saves Christmas   \n",
       "2      s3    Movie                      Ice Age: A Mammoth Christmas   \n",
       "3      s4    Movie                        The Queen Family Singalong   \n",
       "4      s5  TV Show                             The Beatles: Get Back   \n",
       "\n",
       "                            director  \\\n",
       "0  Alonso Ramirez Ramos, Dave Wasson   \n",
       "1                        John Cherry   \n",
       "2                       Karen Disher   \n",
       "3                    Hamish Hamilton   \n",
       "4                                NaN   \n",
       "\n",
       "                                                cast        country  \\\n",
       "0  Chris Diamantopoulos, Tony Anselmo, Tress MacN...            NaN   \n",
       "1           Jim Varney, Noelle Parker, Douglas Seale            NaN   \n",
       "2  Raymond Albert Romano, John Leguizamo, Denis L...  United States   \n",
       "3  Darren Criss, Adam Lambert, Derek Hough, Alexa...            NaN   \n",
       "4  John Lennon, Paul McCartney, George Harrison, ...            NaN   \n",
       "\n",
       "          date_added  release_year rating  duration  \\\n",
       "0  November 26, 2021          2016   TV-G    23 min   \n",
       "1  November 26, 2021          1988     PG    91 min   \n",
       "2  November 26, 2021          2011   TV-G    23 min   \n",
       "3  November 26, 2021          2021  TV-PG    41 min   \n",
       "4  November 25, 2021          2021    NaN  1 Season   \n",
       "\n",
       "                       listed_in  \\\n",
       "0              Animation, Family   \n",
       "1                         Comedy   \n",
       "2      Animation, Comedy, Family   \n",
       "3                        Musical   \n",
       "4  Docuseries, Historical, Music   \n",
       "\n",
       "                                         description  \n",
       "0   Join Mickey and the gang as they duck the halls!  \n",
       "1  Santa Claus passes his magic bag to a new St. ...  \n",
       "2          Sid the Sloth is on Santa's naughty list.  \n",
       "3               This is real life, not just fantasy!  \n",
       "4  A three-part documentary from Peter Jackson ca...  "
      ]
     },
     "execution_count": 2,
     "metadata": {},
     "output_type": "execute_result"
    }
   ],
   "source": [
    "df.head()"
   ]
  },
  {
   "cell_type": "code",
   "execution_count": 3,
   "id": "ed4852c0-9f18-435c-be70-21460040898e",
   "metadata": {},
   "outputs": [
    {
     "data": {
      "text/plain": [
       "['show_id',\n",
       " 'type',\n",
       " 'title',\n",
       " 'director',\n",
       " 'cast',\n",
       " 'country',\n",
       " 'date_added',\n",
       " 'release_year',\n",
       " 'rating',\n",
       " 'duration',\n",
       " 'listed_in',\n",
       " 'description']"
      ]
     },
     "execution_count": 3,
     "metadata": {},
     "output_type": "execute_result"
    }
   ],
   "source": [
    "col_list = df.columns.to_list()\n",
    "col_list"
   ]
  },
  {
   "cell_type": "markdown",
   "id": "afb113dc",
   "metadata": {},
   "source": [
    "Evaluate the information in the dataframe. Start making a plan of what to do next."
   ]
  },
  {
   "cell_type": "code",
   "execution_count": 4,
   "id": "0537aecd",
   "metadata": {},
   "outputs": [
    {
     "name": "stdout",
     "output_type": "stream",
     "text": [
      "<class 'pandas.core.frame.DataFrame'>\n",
      "RangeIndex: 1450 entries, 0 to 1449\n",
      "Data columns (total 12 columns):\n",
      " #   Column        Non-Null Count  Dtype \n",
      "---  ------        --------------  ----- \n",
      " 0   show_id       1450 non-null   object\n",
      " 1   type          1450 non-null   object\n",
      " 2   title         1450 non-null   object\n",
      " 3   director      977 non-null    object\n",
      " 4   cast          1260 non-null   object\n",
      " 5   country       1231 non-null   object\n",
      " 6   date_added    1447 non-null   object\n",
      " 7   release_year  1450 non-null   int64 \n",
      " 8   rating        1447 non-null   object\n",
      " 9   duration      1450 non-null   object\n",
      " 10  listed_in     1450 non-null   object\n",
      " 11  description   1450 non-null   object\n",
      "dtypes: int64(1), object(11)\n",
      "memory usage: 136.1+ KB\n"
     ]
    }
   ],
   "source": [
    "df.info()"
   ]
  },
  {
   "cell_type": "code",
   "execution_count": 5,
   "id": "4db790b3",
   "metadata": {},
   "outputs": [
    {
     "data": {
      "text/html": [
       "<div>\n",
       "<style scoped>\n",
       "    .dataframe tbody tr th:only-of-type {\n",
       "        vertical-align: middle;\n",
       "    }\n",
       "\n",
       "    .dataframe tbody tr th {\n",
       "        vertical-align: top;\n",
       "    }\n",
       "\n",
       "    .dataframe thead th {\n",
       "        text-align: right;\n",
       "    }\n",
       "</style>\n",
       "<table border=\"1\" class=\"dataframe\">\n",
       "  <thead>\n",
       "    <tr style=\"text-align: right;\">\n",
       "      <th></th>\n",
       "      <th>release_year</th>\n",
       "    </tr>\n",
       "  </thead>\n",
       "  <tbody>\n",
       "    <tr>\n",
       "      <th>count</th>\n",
       "      <td>1450.000000</td>\n",
       "    </tr>\n",
       "    <tr>\n",
       "      <th>mean</th>\n",
       "      <td>2003.091724</td>\n",
       "    </tr>\n",
       "    <tr>\n",
       "      <th>std</th>\n",
       "      <td>21.860162</td>\n",
       "    </tr>\n",
       "    <tr>\n",
       "      <th>min</th>\n",
       "      <td>1928.000000</td>\n",
       "    </tr>\n",
       "    <tr>\n",
       "      <th>25%</th>\n",
       "      <td>1999.000000</td>\n",
       "    </tr>\n",
       "    <tr>\n",
       "      <th>50%</th>\n",
       "      <td>2011.000000</td>\n",
       "    </tr>\n",
       "    <tr>\n",
       "      <th>75%</th>\n",
       "      <td>2018.000000</td>\n",
       "    </tr>\n",
       "    <tr>\n",
       "      <th>max</th>\n",
       "      <td>2021.000000</td>\n",
       "    </tr>\n",
       "  </tbody>\n",
       "</table>\n",
       "</div>"
      ],
      "text/plain": [
       "       release_year\n",
       "count   1450.000000\n",
       "mean    2003.091724\n",
       "std       21.860162\n",
       "min     1928.000000\n",
       "25%     1999.000000\n",
       "50%     2011.000000\n",
       "75%     2018.000000\n",
       "max     2021.000000"
      ]
     },
     "execution_count": 5,
     "metadata": {},
     "output_type": "execute_result"
    }
   ],
   "source": [
    "df.describe()"
   ]
  },
  {
   "cell_type": "markdown",
   "id": "3ff2d741",
   "metadata": {},
   "source": [
    "Are there nulls or duplicates?"
   ]
  },
  {
   "cell_type": "code",
   "execution_count": 6,
   "id": "fbc2b5b6",
   "metadata": {},
   "outputs": [
    {
     "data": {
      "text/plain": [
       "show_id           0\n",
       "type              0\n",
       "title             0\n",
       "director        473\n",
       "cast            190\n",
       "country         219\n",
       "date_added        3\n",
       "release_year      0\n",
       "rating            3\n",
       "duration          0\n",
       "listed_in         0\n",
       "description       0\n",
       "dtype: int64"
      ]
     },
     "execution_count": 6,
     "metadata": {},
     "output_type": "execute_result"
    }
   ],
   "source": [
    "df.isna().sum()"
   ]
  },
  {
   "cell_type": "code",
   "execution_count": 7,
   "id": "42b19566",
   "metadata": {},
   "outputs": [
    {
     "data": {
      "text/plain": [
       "0"
      ]
     },
     "execution_count": 7,
     "metadata": {},
     "output_type": "execute_result"
    }
   ],
   "source": [
    "df.duplicated().sum()"
   ]
  },
  {
   "cell_type": "markdown",
   "id": "eed43cdd",
   "metadata": {},
   "source": [
    "# 2. Clean Data\n",
    "Establish another dataframe to work from."
   ]
  },
  {
   "cell_type": "code",
   "execution_count": 8,
   "id": "c7335621",
   "metadata": {},
   "outputs": [
    {
     "data": {
      "text/html": [
       "<div>\n",
       "<style scoped>\n",
       "    .dataframe tbody tr th:only-of-type {\n",
       "        vertical-align: middle;\n",
       "    }\n",
       "\n",
       "    .dataframe tbody tr th {\n",
       "        vertical-align: top;\n",
       "    }\n",
       "\n",
       "    .dataframe thead th {\n",
       "        text-align: right;\n",
       "    }\n",
       "</style>\n",
       "<table border=\"1\" class=\"dataframe\">\n",
       "  <thead>\n",
       "    <tr style=\"text-align: right;\">\n",
       "      <th></th>\n",
       "      <th>type</th>\n",
       "      <th>title</th>\n",
       "      <th>date_added</th>\n",
       "      <th>release_year</th>\n",
       "      <th>rating</th>\n",
       "      <th>duration</th>\n",
       "      <th>listed_in</th>\n",
       "    </tr>\n",
       "  </thead>\n",
       "  <tbody>\n",
       "    <tr>\n",
       "      <th>0</th>\n",
       "      <td>Movie</td>\n",
       "      <td>Duck the Halls: A Mickey Mouse Christmas Special</td>\n",
       "      <td>November 26, 2021</td>\n",
       "      <td>2016</td>\n",
       "      <td>TV-G</td>\n",
       "      <td>23 min</td>\n",
       "      <td>Animation, Family</td>\n",
       "    </tr>\n",
       "    <tr>\n",
       "      <th>1</th>\n",
       "      <td>Movie</td>\n",
       "      <td>Ernest Saves Christmas</td>\n",
       "      <td>November 26, 2021</td>\n",
       "      <td>1988</td>\n",
       "      <td>PG</td>\n",
       "      <td>91 min</td>\n",
       "      <td>Comedy</td>\n",
       "    </tr>\n",
       "    <tr>\n",
       "      <th>2</th>\n",
       "      <td>Movie</td>\n",
       "      <td>Ice Age: A Mammoth Christmas</td>\n",
       "      <td>November 26, 2021</td>\n",
       "      <td>2011</td>\n",
       "      <td>TV-G</td>\n",
       "      <td>23 min</td>\n",
       "      <td>Animation, Comedy, Family</td>\n",
       "    </tr>\n",
       "    <tr>\n",
       "      <th>3</th>\n",
       "      <td>Movie</td>\n",
       "      <td>The Queen Family Singalong</td>\n",
       "      <td>November 26, 2021</td>\n",
       "      <td>2021</td>\n",
       "      <td>TV-PG</td>\n",
       "      <td>41 min</td>\n",
       "      <td>Musical</td>\n",
       "    </tr>\n",
       "    <tr>\n",
       "      <th>4</th>\n",
       "      <td>TV Show</td>\n",
       "      <td>The Beatles: Get Back</td>\n",
       "      <td>November 25, 2021</td>\n",
       "      <td>2021</td>\n",
       "      <td>NaN</td>\n",
       "      <td>1 Season</td>\n",
       "      <td>Docuseries, Historical, Music</td>\n",
       "    </tr>\n",
       "  </tbody>\n",
       "</table>\n",
       "</div>"
      ],
      "text/plain": [
       "      type                                             title  \\\n",
       "0    Movie  Duck the Halls: A Mickey Mouse Christmas Special   \n",
       "1    Movie                            Ernest Saves Christmas   \n",
       "2    Movie                      Ice Age: A Mammoth Christmas   \n",
       "3    Movie                        The Queen Family Singalong   \n",
       "4  TV Show                             The Beatles: Get Back   \n",
       "\n",
       "          date_added  release_year rating  duration  \\\n",
       "0  November 26, 2021          2016   TV-G    23 min   \n",
       "1  November 26, 2021          1988     PG    91 min   \n",
       "2  November 26, 2021          2011   TV-G    23 min   \n",
       "3  November 26, 2021          2021  TV-PG    41 min   \n",
       "4  November 25, 2021          2021    NaN  1 Season   \n",
       "\n",
       "                       listed_in  \n",
       "0              Animation, Family  \n",
       "1                         Comedy  \n",
       "2      Animation, Comedy, Family  \n",
       "3                        Musical  \n",
       "4  Docuseries, Historical, Music  "
      ]
     },
     "execution_count": 8,
     "metadata": {},
     "output_type": "execute_result"
    }
   ],
   "source": [
    "# Dropping the unecessary columns\n",
    "df_clean = df.drop(['director','cast', 'country','description','show_id'], axis=1)\n",
    "df_clean.head()"
   ]
  },
  {
   "cell_type": "markdown",
   "id": "4a8de67b-d111-4c5b-bce0-c1c3c03851da",
   "metadata": {},
   "source": [
    "## Adding a new 'streaming_platform' column"
   ]
  },
  {
   "cell_type": "code",
   "execution_count": 9,
   "id": "ef957171-ebb9-4203-bba5-449b88fadd3f",
   "metadata": {},
   "outputs": [
    {
     "data": {
      "text/html": [
       "<div>\n",
       "<style scoped>\n",
       "    .dataframe tbody tr th:only-of-type {\n",
       "        vertical-align: middle;\n",
       "    }\n",
       "\n",
       "    .dataframe tbody tr th {\n",
       "        vertical-align: top;\n",
       "    }\n",
       "\n",
       "    .dataframe thead th {\n",
       "        text-align: right;\n",
       "    }\n",
       "</style>\n",
       "<table border=\"1\" class=\"dataframe\">\n",
       "  <thead>\n",
       "    <tr style=\"text-align: right;\">\n",
       "      <th></th>\n",
       "      <th>type</th>\n",
       "      <th>title</th>\n",
       "      <th>date_added</th>\n",
       "      <th>release_year</th>\n",
       "      <th>rating</th>\n",
       "      <th>duration</th>\n",
       "      <th>listed_in</th>\n",
       "      <th>streaming_platform</th>\n",
       "    </tr>\n",
       "  </thead>\n",
       "  <tbody>\n",
       "    <tr>\n",
       "      <th>0</th>\n",
       "      <td>Movie</td>\n",
       "      <td>Duck the Halls: A Mickey Mouse Christmas Special</td>\n",
       "      <td>November 26, 2021</td>\n",
       "      <td>2016</td>\n",
       "      <td>TV-G</td>\n",
       "      <td>23 min</td>\n",
       "      <td>Animation, Family</td>\n",
       "      <td>DisneyPlus</td>\n",
       "    </tr>\n",
       "    <tr>\n",
       "      <th>1</th>\n",
       "      <td>Movie</td>\n",
       "      <td>Ernest Saves Christmas</td>\n",
       "      <td>November 26, 2021</td>\n",
       "      <td>1988</td>\n",
       "      <td>PG</td>\n",
       "      <td>91 min</td>\n",
       "      <td>Comedy</td>\n",
       "      <td>DisneyPlus</td>\n",
       "    </tr>\n",
       "    <tr>\n",
       "      <th>2</th>\n",
       "      <td>Movie</td>\n",
       "      <td>Ice Age: A Mammoth Christmas</td>\n",
       "      <td>November 26, 2021</td>\n",
       "      <td>2011</td>\n",
       "      <td>TV-G</td>\n",
       "      <td>23 min</td>\n",
       "      <td>Animation, Comedy, Family</td>\n",
       "      <td>DisneyPlus</td>\n",
       "    </tr>\n",
       "    <tr>\n",
       "      <th>3</th>\n",
       "      <td>Movie</td>\n",
       "      <td>The Queen Family Singalong</td>\n",
       "      <td>November 26, 2021</td>\n",
       "      <td>2021</td>\n",
       "      <td>TV-PG</td>\n",
       "      <td>41 min</td>\n",
       "      <td>Musical</td>\n",
       "      <td>DisneyPlus</td>\n",
       "    </tr>\n",
       "    <tr>\n",
       "      <th>4</th>\n",
       "      <td>TV Show</td>\n",
       "      <td>The Beatles: Get Back</td>\n",
       "      <td>November 25, 2021</td>\n",
       "      <td>2021</td>\n",
       "      <td>NaN</td>\n",
       "      <td>1 Season</td>\n",
       "      <td>Docuseries, Historical, Music</td>\n",
       "      <td>DisneyPlus</td>\n",
       "    </tr>\n",
       "  </tbody>\n",
       "</table>\n",
       "</div>"
      ],
      "text/plain": [
       "      type                                             title  \\\n",
       "0    Movie  Duck the Halls: A Mickey Mouse Christmas Special   \n",
       "1    Movie                            Ernest Saves Christmas   \n",
       "2    Movie                      Ice Age: A Mammoth Christmas   \n",
       "3    Movie                        The Queen Family Singalong   \n",
       "4  TV Show                             The Beatles: Get Back   \n",
       "\n",
       "          date_added  release_year rating  duration  \\\n",
       "0  November 26, 2021          2016   TV-G    23 min   \n",
       "1  November 26, 2021          1988     PG    91 min   \n",
       "2  November 26, 2021          2011   TV-G    23 min   \n",
       "3  November 26, 2021          2021  TV-PG    41 min   \n",
       "4  November 25, 2021          2021    NaN  1 Season   \n",
       "\n",
       "                       listed_in streaming_platform  \n",
       "0              Animation, Family         DisneyPlus  \n",
       "1                         Comedy         DisneyPlus  \n",
       "2      Animation, Comedy, Family         DisneyPlus  \n",
       "3                        Musical         DisneyPlus  \n",
       "4  Docuseries, Historical, Music         DisneyPlus  "
      ]
     },
     "execution_count": 9,
     "metadata": {},
     "output_type": "execute_result"
    }
   ],
   "source": [
    "df_clean.insert(7, 'streaming_platform', 'DisneyPlus', allow_duplicates = True)\n",
    "df_clean.head()"
   ]
  },
  {
   "cell_type": "code",
   "execution_count": 10,
   "id": "843a31ab-c264-45dd-b235-c837f26ff31d",
   "metadata": {},
   "outputs": [
    {
     "data": {
      "text/plain": [
       "type                  0\n",
       "title                 0\n",
       "date_added            3\n",
       "release_year          0\n",
       "rating                3\n",
       "duration              0\n",
       "listed_in             0\n",
       "streaming_platform    0\n",
       "dtype: int64"
      ]
     },
     "execution_count": 10,
     "metadata": {},
     "output_type": "execute_result"
    }
   ],
   "source": [
    "#checking for null values\n",
    "df_clean.isna().sum()"
   ]
  },
  {
   "cell_type": "markdown",
   "id": "8bc03bfe-69ea-46cb-aac5-5ca7f05ed3b4",
   "metadata": {},
   "source": [
    "# Separating into 2 dataframes for movies and TV_shows"
   ]
  },
  {
   "cell_type": "code",
   "execution_count": 11,
   "id": "75cc670b-4741-4171-99c1-7332b37e9648",
   "metadata": {},
   "outputs": [
    {
     "name": "stdout",
     "output_type": "stream",
     "text": [
      "<class 'pandas.core.frame.DataFrame'>\n",
      "Index: 1052 entries, 0 to 1449\n",
      "Data columns (total 8 columns):\n",
      " #   Column              Non-Null Count  Dtype \n",
      "---  ------              --------------  ----- \n",
      " 0   type                1052 non-null   object\n",
      " 1   title               1052 non-null   object\n",
      " 2   date_added          1052 non-null   object\n",
      " 3   release_year        1052 non-null   int64 \n",
      " 4   rating              1051 non-null   object\n",
      " 5   duration            1052 non-null   object\n",
      " 6   listed_in           1052 non-null   object\n",
      " 7   streaming_platform  1052 non-null   object\n",
      "dtypes: int64(1), object(7)\n",
      "memory usage: 74.0+ KB\n"
     ]
    }
   ],
   "source": [
    "#Dataframe 1\n",
    "disneyplus_movies = df_clean.loc[df_clean['type']== 'Movie']\n",
    "disneyplus_movies.info()"
   ]
  },
  {
   "cell_type": "code",
   "execution_count": 12,
   "id": "4846512f-6698-47fb-b9a8-f2e4faf59162",
   "metadata": {},
   "outputs": [
    {
     "data": {
      "text/plain": [
       "type                  0\n",
       "title                 0\n",
       "date_added            0\n",
       "release_year          0\n",
       "rating                1\n",
       "duration              0\n",
       "listed_in             0\n",
       "streaming_platform    0\n",
       "dtype: int64"
      ]
     },
     "execution_count": 12,
     "metadata": {},
     "output_type": "execute_result"
    }
   ],
   "source": [
    "disneyplus_movies.isna().sum()"
   ]
  },
  {
   "cell_type": "code",
   "execution_count": 13,
   "id": "b53ffbee-2356-4de9-bcc8-74a7ebb8ef2f",
   "metadata": {},
   "outputs": [],
   "source": [
    "disneyplus_movies = disneyplus_movies.dropna(axis = 0) #dropping the na row "
   ]
  },
  {
   "cell_type": "code",
   "execution_count": 14,
   "id": "84fb3810-3aaa-4389-b3d9-4630e534b122",
   "metadata": {},
   "outputs": [
    {
     "name": "stdout",
     "output_type": "stream",
     "text": [
      "<class 'pandas.core.frame.DataFrame'>\n",
      "Index: 1051 entries, 0 to 1449\n",
      "Data columns (total 8 columns):\n",
      " #   Column              Non-Null Count  Dtype \n",
      "---  ------              --------------  ----- \n",
      " 0   type                1051 non-null   object\n",
      " 1   title               1051 non-null   object\n",
      " 2   date_added          1051 non-null   object\n",
      " 3   release_year        1051 non-null   int64 \n",
      " 4   rating              1051 non-null   object\n",
      " 5   duration            1051 non-null   object\n",
      " 6   listed_in           1051 non-null   object\n",
      " 7   streaming_platform  1051 non-null   object\n",
      "dtypes: int64(1), object(7)\n",
      "memory usage: 73.9+ KB\n"
     ]
    }
   ],
   "source": [
    "disneyplus_movies.info()"
   ]
  },
  {
   "cell_type": "code",
   "execution_count": 15,
   "id": "57aaaead-080f-4f1c-a3e1-3ab6d2945125",
   "metadata": {},
   "outputs": [
    {
     "name": "stdout",
     "output_type": "stream",
     "text": [
      "<class 'pandas.core.frame.DataFrame'>\n",
      "Index: 398 entries, 4 to 1441\n",
      "Data columns (total 8 columns):\n",
      " #   Column              Non-Null Count  Dtype \n",
      "---  ------              --------------  ----- \n",
      " 0   type                398 non-null    object\n",
      " 1   title               398 non-null    object\n",
      " 2   date_added          395 non-null    object\n",
      " 3   release_year        398 non-null    int64 \n",
      " 4   rating              396 non-null    object\n",
      " 5   duration            398 non-null    object\n",
      " 6   listed_in           398 non-null    object\n",
      " 7   streaming_platform  398 non-null    object\n",
      "dtypes: int64(1), object(7)\n",
      "memory usage: 28.0+ KB\n"
     ]
    }
   ],
   "source": [
    "# Dataframe 2\n",
    "disneyplus_tv = df_clean.loc[df_clean['type']== 'TV Show']\n",
    "disneyplus_tv.info()"
   ]
  },
  {
   "cell_type": "code",
   "execution_count": 16,
   "id": "f8391613-497a-4bdf-9d27-3407bbaabea4",
   "metadata": {},
   "outputs": [
    {
     "data": {
      "text/plain": [
       "type                  0\n",
       "title                 0\n",
       "date_added            3\n",
       "release_year          0\n",
       "rating                2\n",
       "duration              0\n",
       "listed_in             0\n",
       "streaming_platform    0\n",
       "dtype: int64"
      ]
     },
     "execution_count": 16,
     "metadata": {},
     "output_type": "execute_result"
    }
   ],
   "source": [
    "disneyplus_tv.isna().sum()"
   ]
  },
  {
   "cell_type": "markdown",
   "id": "990e627a-7232-4efd-a941-c89406d22220",
   "metadata": {},
   "source": [
    "Imputing date_added with most_frequent values"
   ]
  },
  {
   "cell_type": "code",
   "execution_count": 17,
   "id": "f68e477c-08ed-4cfa-aa68-1114c3e5d463",
   "metadata": {},
   "outputs": [],
   "source": [
    "from sklearn.impute import SimpleImputer # import the SimpleImputer class\n",
    "cat_imputer = SimpleImputer(strategy='most_frequent') \n",
    "disneyplus_tv.loc[:,'date_added'] = cat_imputer.fit_transform(disneyplus_tv['date_added'].values.reshape(-1, 1)).ravel()"
   ]
  },
  {
   "cell_type": "code",
   "execution_count": 19,
   "id": "fcf69ae7-025c-4ace-b1ff-d5a3fd0efaae",
   "metadata": {},
   "outputs": [
    {
     "data": {
      "text/plain": [
       "type                  0\n",
       "title                 0\n",
       "date_added            0\n",
       "release_year          0\n",
       "rating                2\n",
       "duration              0\n",
       "listed_in             0\n",
       "streaming_platform    0\n",
       "dtype: int64"
      ]
     },
     "execution_count": 19,
     "metadata": {},
     "output_type": "execute_result"
    }
   ],
   "source": [
    "disneyplus_tv.isna().sum()"
   ]
  },
  {
   "cell_type": "code",
   "execution_count": 20,
   "id": "30acbe6b-7a55-46cb-a9c9-9b90f06f98a4",
   "metadata": {},
   "outputs": [],
   "source": [
    "disneyplus_tv = disneyplus_tv.dropna(axis = 0)"
   ]
  },
  {
   "cell_type": "code",
   "execution_count": 21,
   "id": "5ba4cc9b-c452-42f7-88be-852016076b54",
   "metadata": {},
   "outputs": [
    {
     "data": {
      "text/plain": [
       "type                  0\n",
       "title                 0\n",
       "date_added            0\n",
       "release_year          0\n",
       "rating                0\n",
       "duration              0\n",
       "listed_in             0\n",
       "streaming_platform    0\n",
       "dtype: int64"
      ]
     },
     "execution_count": 21,
     "metadata": {},
     "output_type": "execute_result"
    }
   ],
   "source": [
    "disneyplus_tv.isna().sum()"
   ]
  },
  {
   "cell_type": "code",
   "execution_count": 22,
   "id": "ff70cd86-50e5-495f-9b3a-1be92db5e5ec",
   "metadata": {},
   "outputs": [
    {
     "name": "stdout",
     "output_type": "stream",
     "text": [
      "<class 'pandas.core.frame.DataFrame'>\n",
      "Index: 396 entries, 6 to 1441\n",
      "Data columns (total 8 columns):\n",
      " #   Column              Non-Null Count  Dtype \n",
      "---  ------              --------------  ----- \n",
      " 0   type                396 non-null    object\n",
      " 1   title               396 non-null    object\n",
      " 2   date_added          396 non-null    object\n",
      " 3   release_year        396 non-null    int64 \n",
      " 4   rating              396 non-null    object\n",
      " 5   duration            396 non-null    object\n",
      " 6   listed_in           396 non-null    object\n",
      " 7   streaming_platform  396 non-null    object\n",
      "dtypes: int64(1), object(7)\n",
      "memory usage: 27.8+ KB\n"
     ]
    }
   ],
   "source": [
    "disneyplus_tv.info()"
   ]
  },
  {
   "cell_type": "markdown",
   "id": "b377d130",
   "metadata": {},
   "source": [
    "### Data Structure\n",
    "- Add any necessary calculated or reformatted columns for visualization/analysis"
   ]
  },
  {
   "cell_type": "code",
   "execution_count": 23,
   "id": "002a2db7-fc82-42d6-bab1-a44c0961d416",
   "metadata": {},
   "outputs": [],
   "source": [
    "#split duration columns\n",
    "def slice_min(min):\n",
    "    return int(min[:-4])\n",
    "disneyplus_movies['duration_minutes'] = disneyplus_movies['duration'].apply(slice_min)"
   ]
  },
  {
   "cell_type": "code",
   "execution_count": 24,
   "id": "2e136db6-c43d-4718-89ec-4af335c1d171",
   "metadata": {},
   "outputs": [],
   "source": [
    "disneyplus_movies = disneyplus_movies.drop('duration', axis = 1)"
   ]
  },
  {
   "cell_type": "code",
   "execution_count": 25,
   "id": "70742544-27f7-480b-b8e4-7592390b2f81",
   "metadata": {},
   "outputs": [
    {
     "name": "stdout",
     "output_type": "stream",
     "text": [
      "<class 'pandas.core.frame.DataFrame'>\n",
      "Index: 1051 entries, 0 to 1449\n",
      "Data columns (total 8 columns):\n",
      " #   Column              Non-Null Count  Dtype \n",
      "---  ------              --------------  ----- \n",
      " 0   type                1051 non-null   object\n",
      " 1   title               1051 non-null   object\n",
      " 2   date_added          1051 non-null   object\n",
      " 3   release_year        1051 non-null   int64 \n",
      " 4   rating              1051 non-null   object\n",
      " 5   listed_in           1051 non-null   object\n",
      " 6   streaming_platform  1051 non-null   object\n",
      " 7   duration_minutes    1051 non-null   int64 \n",
      "dtypes: int64(2), object(6)\n",
      "memory usage: 73.9+ KB\n"
     ]
    }
   ],
   "source": [
    "disneyplus_movies.info()"
   ]
  },
  {
   "cell_type": "markdown",
   "id": "63a95f49",
   "metadata": {},
   "source": [
    "### Checking for Erroneous Values\n"
   ]
  },
  {
   "cell_type": "code",
   "execution_count": 26,
   "id": "c986e5f2-186a-43d3-8445-597199570d93",
   "metadata": {},
   "outputs": [
    {
     "name": "stdout",
     "output_type": "stream",
     "text": [
      "type\n",
      "Movie    1051\n",
      "Name: count, dtype: int64\n",
      "title\n",
      "Duck the Halls: A Mickey Mouse Christmas Special    1\n",
      "Marvel Rising: Secret Warriors                      1\n",
      "Marvel Studios: Expanding the Universe              1\n",
      "Marvel Studios' Ant-Man                             1\n",
      "Marvel Studios' Avengers: Age of Ultron             1\n",
      "                                                   ..\n",
      "Sea Scouts                                          1\n",
      "The Boy Who Talked to Badgers                       1\n",
      "The New Neighbor                                    1\n",
      "The Small One                                       1\n",
      "Captain Sparky vs. The Flying Saucers               1\n",
      "Name: count, Length: 1051, dtype: int64\n",
      "date_added\n",
      "November 12, 2019    597\n",
      "November 12, 2021     25\n",
      "April 3, 2020         24\n",
      "January 1, 2020       20\n",
      "May 1, 2020           10\n",
      "                    ... \n",
      "March 5, 2020          1\n",
      "March 4, 2020          1\n",
      "May 21, 2021           1\n",
      "February 16, 2020      1\n",
      "May 2, 2020            1\n",
      "Name: count, Length: 134, dtype: int64\n",
      "release_year\n",
      "2020    74\n",
      "2021    70\n",
      "2019    60\n",
      "2011    35\n",
      "2014    34\n",
      "        ..\n",
      "1944     1\n",
      "1970     1\n",
      "1945     1\n",
      "1982     1\n",
      "1968     1\n",
      "Name: count, Length: 90, dtype: int64\n",
      "rating\n",
      "G           253\n",
      "PG          235\n",
      "TV-G        233\n",
      "TV-PG       181\n",
      "PG-13        66\n",
      "TV-14        37\n",
      "TV-Y7        36\n",
      "TV-Y7-FV      7\n",
      "TV-Y          3\n",
      "Name: count, dtype: int64\n",
      "listed_in\n",
      "Animation, Comedy, Family                        119\n",
      "Action-Adventure, Animation, Comedy               44\n",
      "Animals & Nature, Documentary, Family             40\n",
      "Action-Adventure, Animation, Family               40\n",
      "Animals & Nature, Documentary                     35\n",
      "                                                ... \n",
      "Animation, Drama, Kids                             1\n",
      "Animation, Kids, Medical                           1\n",
      "Drama, Family, Musical                             1\n",
      "Variety                                            1\n",
      "Action-Adventure, Animals & Nature, Animation      1\n",
      "Name: count, Length: 245, dtype: int64\n",
      "streaming_platform\n",
      "DisneyPlus    1051\n",
      "Name: count, dtype: int64\n",
      "duration_minutes\n",
      "7      42\n",
      "44     42\n",
      "8      41\n",
      "9      33\n",
      "45     31\n",
      "       ..\n",
      "18      1\n",
      "19      1\n",
      "160     1\n",
      "15      1\n",
      "68      1\n",
      "Name: count, Length: 145, dtype: int64\n"
     ]
    }
   ],
   "source": [
    "print(disneyplus_movies['type'].value_counts())\n",
    "print(disneyplus_movies['title'].value_counts())\n",
    "print(disneyplus_movies['date_added'].value_counts())\n",
    "print(disneyplus_movies['release_year'].value_counts())\n",
    "print(disneyplus_movies['rating'].value_counts())\n",
    "print(disneyplus_movies['listed_in'].value_counts())\n",
    "print(disneyplus_movies['streaming_platform'].value_counts())\n",
    "print(disneyplus_movies['duration_minutes'].value_counts())"
   ]
  },
  {
   "cell_type": "markdown",
   "id": "60a85eee-eaad-4ba7-8919-d1e770a77396",
   "metadata": {},
   "source": [
    "## Data Structure\r\n",
    "Add any necessary calculated or reformatted columns for visualization/analysis"
   ]
  },
  {
   "cell_type": "code",
   "execution_count": 27,
   "id": "0ba18e5e-df19-4e4c-ab01-4abc7808fc3d",
   "metadata": {},
   "outputs": [],
   "source": [
    "def slice_season(season):\n",
    "    if len(season) <= 8:\n",
    "        return (int(season[:-7]))\n",
    "    else:\n",
    "        return (int(season[:-8]))\n",
    "disneyplus_tv['duration_season'] = disneyplus_tv['duration'].apply(slice_season)"
   ]
  },
  {
   "cell_type": "code",
   "execution_count": 28,
   "id": "eced82be-537a-4417-b27b-5a38cbcdb57b",
   "metadata": {},
   "outputs": [],
   "source": [
    "disneyplus_tv = disneyplus_tv.drop('duration', axis = 1)"
   ]
  },
  {
   "cell_type": "code",
   "execution_count": 29,
   "id": "d323ffd7-b74f-4c36-a3c7-280208e25b95",
   "metadata": {},
   "outputs": [
    {
     "name": "stdout",
     "output_type": "stream",
     "text": [
      "<class 'pandas.core.frame.DataFrame'>\n",
      "Index: 396 entries, 6 to 1441\n",
      "Data columns (total 8 columns):\n",
      " #   Column              Non-Null Count  Dtype \n",
      "---  ------              --------------  ----- \n",
      " 0   type                396 non-null    object\n",
      " 1   title               396 non-null    object\n",
      " 2   date_added          396 non-null    object\n",
      " 3   release_year        396 non-null    int64 \n",
      " 4   rating              396 non-null    object\n",
      " 5   listed_in           396 non-null    object\n",
      " 6   streaming_platform  396 non-null    object\n",
      " 7   duration_season     396 non-null    int64 \n",
      "dtypes: int64(2), object(6)\n",
      "memory usage: 27.8+ KB\n"
     ]
    }
   ],
   "source": [
    "disneyplus_tv.info()"
   ]
  },
  {
   "cell_type": "markdown",
   "id": "e2ca9ab8-38c6-49dd-86ed-26d36587bded",
   "metadata": {},
   "source": [
    "### Checking for Erroneous Values"
   ]
  },
  {
   "cell_type": "code",
   "execution_count": 30,
   "id": "94accea9",
   "metadata": {},
   "outputs": [
    {
     "name": "stdout",
     "output_type": "stream",
     "text": [
      "type\n",
      "TV Show    396\n",
      "Name: count, dtype: int64\n",
      "title\n",
      "Hawkeye                                           1\n",
      "Boy Meets World                                   1\n",
      "Big Hero 6 The Series (Shorts)                    1\n",
      "Big City Greens (Shorts)                          1\n",
      "Best Friends Whenever                             1\n",
      "                                                 ..\n",
      "Wicked Tuna: Outer Banks                          1\n",
      "Marvel Battleworld: Mystery of the Thanostones    1\n",
      "The Muppet Show                                   1\n",
      "Secrets of Sulphur Springs                        1\n",
      "Imagination Movers                                1\n",
      "Name: count, Length: 396, dtype: int64\n",
      "date_added\n",
      "November 12, 2019     128\n",
      "May 1, 2020             9\n",
      "September 18, 2020      8\n",
      "August 14, 2020         8\n",
      "January 1, 2020         8\n",
      "                     ... \n",
      "July 14, 2021           1\n",
      "July 16, 2021           1\n",
      "July 10, 2020           1\n",
      "July 3, 2020            1\n",
      "October 1, 2019         1\n",
      "Name: count, Length: 106, dtype: int64\n",
      "release_year\n",
      "2021    53\n",
      "2020    40\n",
      "2019    38\n",
      "2017    36\n",
      "2018    33\n",
      "2016    31\n",
      "2015    23\n",
      "2011    17\n",
      "2014    16\n",
      "2013    12\n",
      "2012    12\n",
      "2010     9\n",
      "2008     8\n",
      "1996     6\n",
      "2004     5\n",
      "2005     4\n",
      "1994     4\n",
      "1997     4\n",
      "2000     4\n",
      "2009     3\n",
      "2006     3\n",
      "2007     3\n",
      "1992     3\n",
      "1999     3\n",
      "1998     3\n",
      "1989     3\n",
      "1985     3\n",
      "1993     2\n",
      "1991     2\n",
      "1955     2\n",
      "2001     2\n",
      "1990     1\n",
      "1982     1\n",
      "1988     1\n",
      "1979     1\n",
      "1973     1\n",
      "2003     1\n",
      "2002     1\n",
      "1976     1\n",
      "1995     1\n",
      "Name: count, dtype: int64\n",
      "rating\n",
      "TV-PG       120\n",
      "TV-Y7        95\n",
      "TV-G         85\n",
      "TV-Y         47\n",
      "TV-14        42\n",
      "TV-Y7-FV      6\n",
      "PG            1\n",
      "Name: count, dtype: int64\n",
      "listed_in\n",
      "Animals & Nature, Docuseries, Family         39\n",
      "Action-Adventure, Animation, Kids            39\n",
      "Action-Adventure, Animation, Comedy          33\n",
      "Animation, Kids                              15\n",
      "Action-Adventure, Animation, Fantasy         12\n",
      "                                             ..\n",
      "Family, Kids                                  1\n",
      "Animals & Nature, Anthology                   1\n",
      "Fantasy, Musical                              1\n",
      "Anthology, Science Fiction                    1\n",
      "Action-Adventure, Comedy, Science Fiction     1\n",
      "Name: count, Length: 135, dtype: int64\n",
      "streaming_platform\n",
      "DisneyPlus    396\n",
      "Name: count, dtype: int64\n",
      "duration_season\n",
      "1     217\n",
      "2      82\n",
      "3      45\n",
      "4      24\n",
      "5      11\n",
      "7       5\n",
      "6       3\n",
      "10      2\n",
      "9       2\n",
      "8       2\n",
      "32      1\n",
      "16      1\n",
      "19      1\n",
      "Name: count, dtype: int64\n"
     ]
    }
   ],
   "source": [
    "print(disneyplus_tv['type'].value_counts())\n",
    "print(disneyplus_tv['title'].value_counts())\n",
    "print(disneyplus_tv['date_added'].value_counts())\n",
    "print(disneyplus_tv['release_year'].value_counts())\n",
    "print(disneyplus_tv['rating'].value_counts())\n",
    "print(disneyplus_tv['listed_in'].value_counts())\n",
    "print(disneyplus_tv['streaming_platform'].value_counts())\n",
    "print(disneyplus_tv['duration_season'].value_counts())"
   ]
  },
  {
   "cell_type": "markdown",
   "id": "1e3ba9a8",
   "metadata": {},
   "source": [
    "## Export to .csv and complete in another program"
   ]
  },
  {
   "cell_type": "code",
   "execution_count": 31,
   "id": "042e5826",
   "metadata": {},
   "outputs": [],
   "source": [
    "tv_df = disneyplus_tv.to_csv('disneyplus_tv.csv', index = True)\n",
    "movies_df = disneyplus_movies.to_csv('disneyplus_movies.csv', index = True)"
   ]
  }
 ],
 "metadata": {
  "kernelspec": {
   "display_name": "Python 3 (ipykernel)",
   "language": "python",
   "name": "python3"
  },
  "language_info": {
   "codemirror_mode": {
    "name": "ipython",
    "version": 3
   },
   "file_extension": ".py",
   "mimetype": "text/x-python",
   "name": "python",
   "nbconvert_exporter": "python",
   "pygments_lexer": "ipython3",
   "version": "3.11.7"
  }
 },
 "nbformat": 4,
 "nbformat_minor": 5
}
