{
 "cells": [
  {
   "cell_type": "markdown",
   "id": "9cbfa00a",
   "metadata": {},
   "source": [
    "# Hulu Data Cleaning\n",
    "Author: Audrey Warner"
   ]
  },
  {
   "cell_type": "markdown",
   "id": "79996327",
   "metadata": {},
   "source": [
    "## Ingest and Access Data"
   ]
  },
  {
   "cell_type": "code",
   "execution_count": 1,
   "id": "290a0e03",
   "metadata": {},
   "outputs": [
    {
     "data": {
      "text/html": [
       "<div>\n",
       "<style scoped>\n",
       "    .dataframe tbody tr th:only-of-type {\n",
       "        vertical-align: middle;\n",
       "    }\n",
       "\n",
       "    .dataframe tbody tr th {\n",
       "        vertical-align: top;\n",
       "    }\n",
       "\n",
       "    .dataframe thead th {\n",
       "        text-align: right;\n",
       "    }\n",
       "</style>\n",
       "<table border=\"1\" class=\"dataframe\">\n",
       "  <thead>\n",
       "    <tr style=\"text-align: right;\">\n",
       "      <th></th>\n",
       "      <th>show_id</th>\n",
       "      <th>type</th>\n",
       "      <th>title</th>\n",
       "      <th>director</th>\n",
       "      <th>cast</th>\n",
       "      <th>country</th>\n",
       "      <th>date_added</th>\n",
       "      <th>release_year</th>\n",
       "      <th>rating</th>\n",
       "      <th>duration</th>\n",
       "      <th>listed_in</th>\n",
       "      <th>description</th>\n",
       "    </tr>\n",
       "  </thead>\n",
       "  <tbody>\n",
       "    <tr>\n",
       "      <th>0</th>\n",
       "      <td>s1</td>\n",
       "      <td>Movie</td>\n",
       "      <td>Ricky Velez: Here's Everything</td>\n",
       "      <td>NaN</td>\n",
       "      <td>NaN</td>\n",
       "      <td>NaN</td>\n",
       "      <td>October 24, 2021</td>\n",
       "      <td>2021</td>\n",
       "      <td>TV-MA</td>\n",
       "      <td>NaN</td>\n",
       "      <td>Comedy, Stand Up</td>\n",
       "      <td>​Comedian Ricky Velez bares it all with his ho...</td>\n",
       "    </tr>\n",
       "    <tr>\n",
       "      <th>1</th>\n",
       "      <td>s2</td>\n",
       "      <td>Movie</td>\n",
       "      <td>Silent Night</td>\n",
       "      <td>NaN</td>\n",
       "      <td>NaN</td>\n",
       "      <td>NaN</td>\n",
       "      <td>October 23, 2021</td>\n",
       "      <td>2020</td>\n",
       "      <td>NaN</td>\n",
       "      <td>94 min</td>\n",
       "      <td>Crime, Drama, Thriller</td>\n",
       "      <td>Mark, a low end South London hitman recently r...</td>\n",
       "    </tr>\n",
       "    <tr>\n",
       "      <th>2</th>\n",
       "      <td>s3</td>\n",
       "      <td>Movie</td>\n",
       "      <td>The Marksman</td>\n",
       "      <td>NaN</td>\n",
       "      <td>NaN</td>\n",
       "      <td>NaN</td>\n",
       "      <td>October 23, 2021</td>\n",
       "      <td>2021</td>\n",
       "      <td>PG-13</td>\n",
       "      <td>108 min</td>\n",
       "      <td>Action, Thriller</td>\n",
       "      <td>A hardened Arizona rancher tries to protect an...</td>\n",
       "    </tr>\n",
       "    <tr>\n",
       "      <th>3</th>\n",
       "      <td>s4</td>\n",
       "      <td>Movie</td>\n",
       "      <td>Gaia</td>\n",
       "      <td>NaN</td>\n",
       "      <td>NaN</td>\n",
       "      <td>NaN</td>\n",
       "      <td>October 22, 2021</td>\n",
       "      <td>2021</td>\n",
       "      <td>R</td>\n",
       "      <td>97 min</td>\n",
       "      <td>Horror</td>\n",
       "      <td>A forest ranger and two survivalists with a cu...</td>\n",
       "    </tr>\n",
       "    <tr>\n",
       "      <th>4</th>\n",
       "      <td>s5</td>\n",
       "      <td>Movie</td>\n",
       "      <td>Settlers</td>\n",
       "      <td>NaN</td>\n",
       "      <td>NaN</td>\n",
       "      <td>NaN</td>\n",
       "      <td>October 22, 2021</td>\n",
       "      <td>2021</td>\n",
       "      <td>NaN</td>\n",
       "      <td>104 min</td>\n",
       "      <td>Science Fiction, Thriller</td>\n",
       "      <td>Mankind's earliest settlers on the Martian fro...</td>\n",
       "    </tr>\n",
       "    <tr>\n",
       "      <th>...</th>\n",
       "      <td>...</td>\n",
       "      <td>...</td>\n",
       "      <td>...</td>\n",
       "      <td>...</td>\n",
       "      <td>...</td>\n",
       "      <td>...</td>\n",
       "      <td>...</td>\n",
       "      <td>...</td>\n",
       "      <td>...</td>\n",
       "      <td>...</td>\n",
       "      <td>...</td>\n",
       "      <td>...</td>\n",
       "    </tr>\n",
       "    <tr>\n",
       "      <th>3068</th>\n",
       "      <td>s3069</td>\n",
       "      <td>TV Show</td>\n",
       "      <td>Star Trek: The Original Series</td>\n",
       "      <td>NaN</td>\n",
       "      <td>NaN</td>\n",
       "      <td>United States</td>\n",
       "      <td>NaN</td>\n",
       "      <td>1966</td>\n",
       "      <td>TV-PG</td>\n",
       "      <td>3 Seasons</td>\n",
       "      <td>Action, Adventure, Classics</td>\n",
       "      <td>The 23rd century adventures of Captain James T...</td>\n",
       "    </tr>\n",
       "    <tr>\n",
       "      <th>3069</th>\n",
       "      <td>s3070</td>\n",
       "      <td>TV Show</td>\n",
       "      <td>Star Trek: Voyager</td>\n",
       "      <td>NaN</td>\n",
       "      <td>NaN</td>\n",
       "      <td>United States</td>\n",
       "      <td>NaN</td>\n",
       "      <td>1997</td>\n",
       "      <td>TV-PG</td>\n",
       "      <td>7 Seasons</td>\n",
       "      <td>Action, Adventure, Science Fiction</td>\n",
       "      <td>Catapulted into the distant sector of the gala...</td>\n",
       "    </tr>\n",
       "    <tr>\n",
       "      <th>3070</th>\n",
       "      <td>s3071</td>\n",
       "      <td>TV Show</td>\n",
       "      <td>The Fades</td>\n",
       "      <td>NaN</td>\n",
       "      <td>NaN</td>\n",
       "      <td>United Kingdom</td>\n",
       "      <td>NaN</td>\n",
       "      <td>2011</td>\n",
       "      <td>TV-14</td>\n",
       "      <td>1 Season</td>\n",
       "      <td>Horror, International, Science Fiction</td>\n",
       "      <td>Seventeen-year-old Paul is haunted by apocalyp...</td>\n",
       "    </tr>\n",
       "    <tr>\n",
       "      <th>3071</th>\n",
       "      <td>s3072</td>\n",
       "      <td>TV Show</td>\n",
       "      <td>The Twilight Zone</td>\n",
       "      <td>NaN</td>\n",
       "      <td>NaN</td>\n",
       "      <td>United States</td>\n",
       "      <td>NaN</td>\n",
       "      <td>1959</td>\n",
       "      <td>TV-PG</td>\n",
       "      <td>5 Seasons</td>\n",
       "      <td>Classics, Science Fiction, Thriller</td>\n",
       "      <td>Rod Serling's seminal anthology series focused...</td>\n",
       "    </tr>\n",
       "    <tr>\n",
       "      <th>3072</th>\n",
       "      <td>s3073</td>\n",
       "      <td>TV Show</td>\n",
       "      <td>Tokyo Magnitude 8.0</td>\n",
       "      <td>NaN</td>\n",
       "      <td>NaN</td>\n",
       "      <td>Japan</td>\n",
       "      <td>NaN</td>\n",
       "      <td>2009</td>\n",
       "      <td>TV-14</td>\n",
       "      <td>1 Season</td>\n",
       "      <td>Anime, Drama, International</td>\n",
       "      <td>The devastation is unleashed in the span of se...</td>\n",
       "    </tr>\n",
       "  </tbody>\n",
       "</table>\n",
       "<p>3073 rows × 12 columns</p>\n",
       "</div>"
      ],
      "text/plain": [
       "     show_id     type                           title director  cast  \\\n",
       "0         s1    Movie  Ricky Velez: Here's Everything      NaN   NaN   \n",
       "1         s2    Movie                    Silent Night      NaN   NaN   \n",
       "2         s3    Movie                    The Marksman      NaN   NaN   \n",
       "3         s4    Movie                            Gaia      NaN   NaN   \n",
       "4         s5    Movie                        Settlers      NaN   NaN   \n",
       "...      ...      ...                             ...      ...   ...   \n",
       "3068   s3069  TV Show  Star Trek: The Original Series      NaN   NaN   \n",
       "3069   s3070  TV Show              Star Trek: Voyager      NaN   NaN   \n",
       "3070   s3071  TV Show                       The Fades      NaN   NaN   \n",
       "3071   s3072  TV Show               The Twilight Zone      NaN   NaN   \n",
       "3072   s3073  TV Show             Tokyo Magnitude 8.0      NaN   NaN   \n",
       "\n",
       "             country        date_added  release_year rating   duration  \\\n",
       "0                NaN  October 24, 2021          2021  TV-MA        NaN   \n",
       "1                NaN  October 23, 2021          2020    NaN     94 min   \n",
       "2                NaN  October 23, 2021          2021  PG-13    108 min   \n",
       "3                NaN  October 22, 2021          2021      R     97 min   \n",
       "4                NaN  October 22, 2021          2021    NaN    104 min   \n",
       "...              ...               ...           ...    ...        ...   \n",
       "3068   United States               NaN          1966  TV-PG  3 Seasons   \n",
       "3069   United States               NaN          1997  TV-PG  7 Seasons   \n",
       "3070  United Kingdom               NaN          2011  TV-14   1 Season   \n",
       "3071   United States               NaN          1959  TV-PG  5 Seasons   \n",
       "3072           Japan               NaN          2009  TV-14   1 Season   \n",
       "\n",
       "                                   listed_in  \\\n",
       "0                           Comedy, Stand Up   \n",
       "1                     Crime, Drama, Thriller   \n",
       "2                           Action, Thriller   \n",
       "3                                     Horror   \n",
       "4                  Science Fiction, Thriller   \n",
       "...                                      ...   \n",
       "3068             Action, Adventure, Classics   \n",
       "3069      Action, Adventure, Science Fiction   \n",
       "3070  Horror, International, Science Fiction   \n",
       "3071     Classics, Science Fiction, Thriller   \n",
       "3072             Anime, Drama, International   \n",
       "\n",
       "                                            description  \n",
       "0     ​Comedian Ricky Velez bares it all with his ho...  \n",
       "1     Mark, a low end South London hitman recently r...  \n",
       "2     A hardened Arizona rancher tries to protect an...  \n",
       "3     A forest ranger and two survivalists with a cu...  \n",
       "4     Mankind's earliest settlers on the Martian fro...  \n",
       "...                                                 ...  \n",
       "3068  The 23rd century adventures of Captain James T...  \n",
       "3069  Catapulted into the distant sector of the gala...  \n",
       "3070  Seventeen-year-old Paul is haunted by apocalyp...  \n",
       "3071  Rod Serling's seminal anthology series focused...  \n",
       "3072  The devastation is unleashed in the span of se...  \n",
       "\n",
       "[3073 rows x 12 columns]"
      ]
     },
     "execution_count": 1,
     "metadata": {},
     "output_type": "execute_result"
    }
   ],
   "source": [
    "import pandas as pd\n",
    "import numpy as np\n",
    "\n",
    "df_hulu = pd.read_csv('hulu_titles.csv')\n",
    "df_hulu"
   ]
  },
  {
   "cell_type": "code",
   "execution_count": 2,
   "id": "944136e8",
   "metadata": {},
   "outputs": [
    {
     "data": {
      "text/plain": [
       "type\n",
       "TV Show    1589\n",
       "Movie      1484\n",
       "Name: count, dtype: int64"
      ]
     },
     "execution_count": 2,
     "metadata": {},
     "output_type": "execute_result"
    }
   ],
   "source": [
    "df_hulu['type'].value_counts()"
   ]
  },
  {
   "cell_type": "code",
   "execution_count": 3,
   "id": "078df413",
   "metadata": {},
   "outputs": [
    {
     "name": "stdout",
     "output_type": "stream",
     "text": [
      "<class 'pandas.core.frame.DataFrame'>\n",
      "RangeIndex: 3073 entries, 0 to 3072\n",
      "Data columns (total 12 columns):\n",
      " #   Column        Non-Null Count  Dtype  \n",
      "---  ------        --------------  -----  \n",
      " 0   show_id       3073 non-null   object \n",
      " 1   type          3073 non-null   object \n",
      " 2   title         3073 non-null   object \n",
      " 3   director      3 non-null      object \n",
      " 4   cast          0 non-null      float64\n",
      " 5   country       1620 non-null   object \n",
      " 6   date_added    3045 non-null   object \n",
      " 7   release_year  3073 non-null   int64  \n",
      " 8   rating        2553 non-null   object \n",
      " 9   duration      2594 non-null   object \n",
      " 10  listed_in     3073 non-null   object \n",
      " 11  description   3069 non-null   object \n",
      "dtypes: float64(1), int64(1), object(10)\n",
      "memory usage: 288.2+ KB\n"
     ]
    }
   ],
   "source": [
    "df_hulu.info()"
   ]
  },
  {
   "cell_type": "markdown",
   "id": "774a77a0",
   "metadata": {},
   "source": [
    "### Initial Observations:\n",
    "- The dataset contains mostly categorical data. \n",
    "- There are only two \"types\" of content in this dataset (TV Show and Movies). \n",
    "- Duration could be transitioned to a numeric value if TV shows and Movies are separated. \n",
    "- The columns \"director\" and \"cast\" are almost all null values.\n",
    "- The \"country\" column is missing ~50% of the data. "
   ]
  },
  {
   "cell_type": "markdown",
   "id": "592581ab",
   "metadata": {},
   "source": [
    "Based on amount of nulls, the columns director, cast, and country will be dropped. Also, we did not seek to include description or show_id in further analysis, so those columns will be dropped in the next step as well."
   ]
  },
  {
   "cell_type": "code",
   "execution_count": 4,
   "id": "e18064c0",
   "metadata": {},
   "outputs": [],
   "source": [
    "df_hulu = df_hulu.drop(['show_id','director','cast', 'country', 'description'], axis=1)"
   ]
  },
  {
   "cell_type": "markdown",
   "id": "00630e8d",
   "metadata": {},
   "source": [
    "This dataset will be compared to information on other streaming platforms. Therefore, a column to denote the streaming plaform will be added."
   ]
  },
  {
   "cell_type": "code",
   "execution_count": 5,
   "id": "89f34b25",
   "metadata": {},
   "outputs": [],
   "source": [
    "df_hulu['streaming_platform'] = 'Hulu'"
   ]
  },
  {
   "cell_type": "markdown",
   "id": "61b0e5f4",
   "metadata": {},
   "source": [
    "As seen below, there is a problem with the \"rating\" column. Some of the \"duration\" values are populated in the wrong column. This wil need to be addresssed. "
   ]
  },
  {
   "cell_type": "code",
   "execution_count": 6,
   "id": "289011af",
   "metadata": {},
   "outputs": [
    {
     "data": {
      "text/plain": [
       "rating\n",
       "TV-14     691\n",
       "TV-MA     391\n",
       "R         345\n",
       "TV-PG     321\n",
       "PG-13     163\n",
       "         ... \n",
       "34 min      1\n",
       "47 min      1\n",
       "65 min      1\n",
       "37 min      1\n",
       "71 min      1\n",
       "Name: count, Length: 88, dtype: int64"
      ]
     },
     "execution_count": 6,
     "metadata": {},
     "output_type": "execute_result"
    }
   ],
   "source": [
    "df_hulu['rating'].value_counts()"
   ]
  },
  {
   "cell_type": "markdown",
   "id": "50412d39",
   "metadata": {},
   "source": [
    "First, the column 'rating' will be converted to a string so that the regex function can be utilized."
   ]
  },
  {
   "cell_type": "code",
   "execution_count": 7,
   "id": "6d8cb22b",
   "metadata": {},
   "outputs": [],
   "source": [
    "df_hulu['rating']= df_hulu['rating'].astype(str)"
   ]
  },
  {
   "cell_type": "markdown",
   "id": "abc79146",
   "metadata": {},
   "source": [
    "Next, we find the values in the \"rating\" column that include the string \"min\" or \"Season\" and move that value to the \"duration\" column. This operation will also be used to reassign \"rating\" values to like groupings."
   ]
  },
  {
   "cell_type": "code",
   "execution_count": 8,
   "id": "fc8eb9e1",
   "metadata": {},
   "outputs": [],
   "source": [
    "from numpy import nan\n",
    "import re\n",
    "\n",
    "for ind in df_hulu.index:\n",
    "    \n",
    "    rating = df_hulu['rating'][ind]\n",
    "    \n",
    "    if bool(re.search('min', rating)) == True:\n",
    "        \n",
    "        df_hulu.at[ind, 'duration'] = rating\n",
    "        df_hulu.at[ind, 'rating'] = None\n",
    "        \n",
    "    elif bool(re.search('Season', rating)) == True:\n",
    "        \n",
    "        df_hulu.loc[ind, 'duration'] = rating\n",
    "        df_hulu.loc[ind, 'rating'] = None\n",
    "        \n",
    " # Resorting rating categories into similar groupings\n",
    "\n",
    "    elif rating == 'nan':\n",
    "        df_hulu.loc[ind, 'rating'] = None\n",
    "    \n",
    "    elif rating == 'NOT RATED':\n",
    "        df_hulu.loc[ind, 'rating'] = \"NR\"\n",
    "    \n",
    "    else:\n",
    "        continue"
   ]
  },
  {
   "cell_type": "code",
   "execution_count": 9,
   "id": "bb9499e3",
   "metadata": {},
   "outputs": [
    {
     "data": {
      "text/plain": [
       "rating\n",
       "TV-14    691\n",
       "TV-MA    391\n",
       "R        345\n",
       "TV-PG    321\n",
       "PG-13    163\n",
       "TV-G     148\n",
       "PG       105\n",
       "TV-Y7     46\n",
       "TV-Y      31\n",
       "G         18\n",
       "NR         2\n",
       "Name: count, dtype: int64"
      ]
     },
     "execution_count": 9,
     "metadata": {},
     "output_type": "execute_result"
    }
   ],
   "source": [
    "df_hulu['rating'].value_counts()"
   ]
  },
  {
   "cell_type": "markdown",
   "id": "b7871735",
   "metadata": {},
   "source": [
    "The \"rating\" column has been cleaned of errouneous values and grouped in to like categories."
   ]
  },
  {
   "cell_type": "markdown",
   "id": "28a833bd",
   "metadata": {},
   "source": [
    "Next, the team elected to split the data into separate datasets for \"type\" Movie and TV Show, so that we can change the duration into a numeric value (minutes for movies and seasons for tv shows). "
   ]
  },
  {
   "cell_type": "code",
   "execution_count": 10,
   "id": "9600ca0f",
   "metadata": {},
   "outputs": [],
   "source": [
    "hulu_movies = df_hulu.loc[df_hulu['type'] == 'Movie']\n",
    "hulu_tv_shows = df_hulu.loc[df_hulu['type'] == 'TV Show']"
   ]
  },
  {
   "cell_type": "markdown",
   "id": "e16a4259",
   "metadata": {},
   "source": [
    "## Refining TV Shows Dataframe"
   ]
  },
  {
   "cell_type": "markdown",
   "id": "1f05c578",
   "metadata": {},
   "source": [
    "The first operation is to slice out the desired data (retaining only the number of seasons) from the duration columnn of the TV show dataset. "
   ]
  },
  {
   "cell_type": "code",
   "execution_count": 11,
   "id": "47b7bfcc",
   "metadata": {},
   "outputs": [],
   "source": [
    "hulu_tv_shows.loc[:,'duration'] = hulu_tv_shows['duration'].astype(str)"
   ]
  },
  {
   "cell_type": "code",
   "execution_count": 12,
   "id": "8445d3eb",
   "metadata": {},
   "outputs": [],
   "source": [
    "for ind in hulu_tv_shows.index:\n",
    "\n",
    "    duration = hulu_tv_shows['duration'][ind]\n",
    "    \n",
    "    if len(duration) == 8:\n",
    "        hulu_tv_shows.at[ind, 'duration'] = int(duration[:1])\n",
    "        \n",
    "    elif len(duration) > 8:\n",
    "        hulu_tv_shows.at[ind, 'duration'] = int(duration[:-8])\n",
    "        \n",
    "    else: continue\n",
    "        "
   ]
  },
  {
   "cell_type": "code",
   "execution_count": 13,
   "id": "24b579b7",
   "metadata": {},
   "outputs": [
    {
     "data": {
      "text/plain": [
       "duration\n",
       "1     829\n",
       "2     265\n",
       "3     121\n",
       "4      99\n",
       "5      80\n",
       "6      56\n",
       "7      46\n",
       "8      20\n",
       "9      17\n",
       "11     13\n",
       "10     10\n",
       "12      8\n",
       "16      3\n",
       "13      3\n",
       "14      3\n",
       "29      2\n",
       "22      2\n",
       "17      2\n",
       "23      2\n",
       "15      2\n",
       "19      1\n",
       "30      1\n",
       "20      1\n",
       "25      1\n",
       "34      1\n",
       "26      1\n",
       "Name: count, dtype: int64"
      ]
     },
     "execution_count": 13,
     "metadata": {},
     "output_type": "execute_result"
    }
   ],
   "source": [
    "hulu_tv_shows['duration'].value_counts()"
   ]
  },
  {
   "cell_type": "markdown",
   "id": "df929498",
   "metadata": {},
   "source": [
    "The operation to retain only the numeric \"duration\" of seasons was successful. Lastly, we will rename the column to indicate the unit."
   ]
  },
  {
   "cell_type": "code",
   "execution_count": 29,
   "id": "f86605cb",
   "metadata": {},
   "outputs": [],
   "source": [
    "hulu_tv_shows = hulu_tv_shows.rename(columns={'duration': 'duration_seasons'})"
   ]
  },
  {
   "cell_type": "code",
   "execution_count": 30,
   "id": "152fd5ef",
   "metadata": {},
   "outputs": [
    {
     "name": "stdout",
     "output_type": "stream",
     "text": [
      "<class 'pandas.core.frame.DataFrame'>\n",
      "Index: 1589 entries, 5 to 3072\n",
      "Data columns (total 8 columns):\n",
      " #   Column              Non-Null Count  Dtype \n",
      "---  ------              --------------  ----- \n",
      " 0   type                1589 non-null   object\n",
      " 1   title               1589 non-null   object\n",
      " 2   date_added          1561 non-null   object\n",
      " 3   release_year        1589 non-null   int64 \n",
      " 4   rating              1359 non-null   object\n",
      " 5   duration_seasons    1589 non-null   object\n",
      " 6   listed_in           1589 non-null   object\n",
      " 7   streaming_platform  1589 non-null   object\n",
      "dtypes: int64(1), object(7)\n",
      "memory usage: 176.3+ KB\n"
     ]
    }
   ],
   "source": [
    "hulu_tv_shows.info()"
   ]
  },
  {
   "cell_type": "markdown",
   "id": "080e4004",
   "metadata": {},
   "source": [
    "Now we will elimanate any more rows with nulls to create the final dataset. This removes 17% of the dataset with is passable based on the size of this dataset."
   ]
  },
  {
   "cell_type": "code",
   "execution_count": 31,
   "id": "f54f9055",
   "metadata": {},
   "outputs": [
    {
     "name": "stdout",
     "output_type": "stream",
     "text": [
      "<class 'pandas.core.frame.DataFrame'>\n",
      "Index: 1331 entries, 8 to 3044\n",
      "Data columns (total 8 columns):\n",
      " #   Column              Non-Null Count  Dtype \n",
      "---  ------              --------------  ----- \n",
      " 0   type                1331 non-null   object\n",
      " 1   title               1331 non-null   object\n",
      " 2   date_added          1331 non-null   object\n",
      " 3   release_year        1331 non-null   int64 \n",
      " 4   rating              1331 non-null   object\n",
      " 5   duration_seasons    1331 non-null   object\n",
      " 6   listed_in           1331 non-null   object\n",
      " 7   streaming_platform  1331 non-null   object\n",
      "dtypes: int64(1), object(7)\n",
      "memory usage: 93.6+ KB\n"
     ]
    }
   ],
   "source": [
    "hulu_tv_shows_final = hulu_tv_shows.dropna()\n",
    "hulu_tv_shows_final.info()"
   ]
  },
  {
   "cell_type": "markdown",
   "id": "f0b12f70",
   "metadata": {},
   "source": [
    "## Refining Movies dataframe"
   ]
  },
  {
   "cell_type": "markdown",
   "id": "db8d6e87",
   "metadata": {},
   "source": [
    "Taking a look at the duration we can see some errouneous values. The duration \"X Seasons\" does not make sense for movie titiles. Therefore, those data points will be removed."
   ]
  },
  {
   "cell_type": "code",
   "execution_count": 16,
   "id": "b3198868",
   "metadata": {},
   "outputs": [
    {
     "data": {
      "text/plain": [
       "duration\n",
       "93 min        44\n",
       "91 min        42\n",
       "1 Season      42\n",
       "94 min        41\n",
       "95 min        39\n",
       "              ..\n",
       "60 min         1\n",
       "1 min          1\n",
       "153 min        1\n",
       "49 min         1\n",
       "12 Seasons     1\n",
       "Name: count, Length: 125, dtype: int64"
      ]
     },
     "execution_count": 16,
     "metadata": {},
     "output_type": "execute_result"
    }
   ],
   "source": [
    "hulu_movies['duration'].value_counts()"
   ]
  },
  {
   "cell_type": "markdown",
   "id": "da5a663f",
   "metadata": {},
   "source": [
    "First, the \"duration\" column will be cast as a string and then the rows with errouneous \"duration\" values will be removed. "
   ]
  },
  {
   "cell_type": "code",
   "execution_count": 17,
   "id": "bbabe575",
   "metadata": {},
   "outputs": [],
   "source": [
    "hulu_movies.loc[:,'duration'] = hulu_movies['duration'].astype(str)"
   ]
  },
  {
   "cell_type": "code",
   "execution_count": 18,
   "id": "716e3b3c",
   "metadata": {},
   "outputs": [],
   "source": [
    "for ind in hulu_movies.index:\n",
    "    \n",
    "    duration = hulu_movies['duration'][ind] \n",
    "    \n",
    "    if bool(re.search('eason', duration)) == True:\n",
    "        hulu_movies = hulu_movies.drop(ind)\n",
    "    else:\n",
    "        continue"
   ]
  },
  {
   "cell_type": "code",
   "execution_count": 19,
   "id": "fe28b310",
   "metadata": {},
   "outputs": [
    {
     "data": {
      "text/plain": [
       "duration\n",
       "nan        187\n",
       "93 min      44\n",
       "91 min      42\n",
       "94 min      41\n",
       "95 min      39\n",
       "          ... \n",
       "49 min       1\n",
       "36 min       1\n",
       "39 min       1\n",
       "34 min       1\n",
       "162 min      1\n",
       "Name: count, Length: 120, dtype: int64"
      ]
     },
     "execution_count": 19,
     "metadata": {},
     "output_type": "execute_result"
    }
   ],
   "source": [
    "hulu_movies['duration'].value_counts()"
   ]
  },
  {
   "cell_type": "markdown",
   "id": "27e96e00",
   "metadata": {},
   "source": [
    "In the inspection above, we can see that the erroneous values have been removed from the \"duration\" column. Now, the duration column will be trimmed of the characters \" min\" and reassigned to a numeric data type."
   ]
  },
  {
   "cell_type": "code",
   "execution_count": 20,
   "id": "3671593a",
   "metadata": {},
   "outputs": [],
   "source": [
    "for ind in hulu_movies.index:\n",
    "    \n",
    "    duration = str(hulu_movies['duration'][ind])\n",
    "    \n",
    "    hulu_movies.at[ind, 'duration'] = duration[:-4]    "
   ]
  },
  {
   "cell_type": "code",
   "execution_count": 21,
   "id": "e7ba3ba9",
   "metadata": {},
   "outputs": [],
   "source": [
    "hulu_movies['duration'] = pd.to_numeric(hulu_movies['duration'])"
   ]
  },
  {
   "cell_type": "code",
   "execution_count": 22,
   "id": "3d4cf456",
   "metadata": {},
   "outputs": [
    {
     "data": {
      "text/plain": [
       "duration\n",
       "93.0     44\n",
       "91.0     42\n",
       "94.0     41\n",
       "95.0     39\n",
       "97.0     37\n",
       "         ..\n",
       "49.0      1\n",
       "36.0      1\n",
       "39.0      1\n",
       "34.0      1\n",
       "162.0     1\n",
       "Name: count, Length: 119, dtype: int64"
      ]
     },
     "execution_count": 22,
     "metadata": {},
     "output_type": "execute_result"
    }
   ],
   "source": [
    "hulu_movies['duration'].value_counts()"
   ]
  },
  {
   "cell_type": "markdown",
   "id": "1a3f4fc8",
   "metadata": {},
   "source": [
    "The operation to format the column \"duration\" was successful. Now, we'll take another look at the dataset as a whole."
   ]
  },
  {
   "cell_type": "code",
<<<<<<< HEAD
<<<<<<< HEAD
   "execution_count": 23,
   "id": "4bcc76e0",
=======
   "execution_count": 24,
   "id": "24fe36d5",
>>>>>>> 75624be8a0c309a73f560eadaa8989a457a292e5
=======
   "execution_count": 24,
   "id": "24fe36d5",
>>>>>>> bf76b71232da68ef73e2bd9d8718e0a0a48fac6b
   "metadata": {},
   "outputs": [
    {
     "name": "stdout",
     "output_type": "stream",
     "text": [
      "<class 'pandas.core.frame.DataFrame'>\n",
      "Index: 1422 entries, 0 to 2993\n",
      "Data columns (total 8 columns):\n",
      " #   Column              Non-Null Count  Dtype  \n",
      "---  ------              --------------  -----  \n",
      " 0   type                1422 non-null   object \n",
      " 1   title               1422 non-null   object \n",
      " 2   date_added          1422 non-null   object \n",
      " 3   release_year        1422 non-null   int64  \n",
      " 4   rating              902 non-null    object \n",
      " 5   duration            1235 non-null   float64\n",
      " 6   listed_in           1422 non-null   object \n",
      " 7   streaming_platform  1422 non-null   object \n",
      "dtypes: float64(1), int64(1), object(6)\n",
      "memory usage: 132.3+ KB\n"
     ]
    }
   ],
   "source": [
    "hulu_movies.info()"
   ]
  },
  {
   "cell_type": "markdown",
   "id": "c6dd043b",
   "metadata": {},
   "source": [
    "There are lot of nulls in the \"rating\" and \"duration\" columns. Next, we will fill the \"duration\" column with a value. First, we'll evaluate the disribution to understand what value to fill with (mean or median)."
   ]
  },
  {
   "cell_type": "code",
   "execution_count": 24,
   "id": "495d22bc",
   "metadata": {},
   "outputs": [
    {
     "name": "stderr",
     "output_type": "stream",
     "text": [
      "C:\\Users\\audre\\anaconda3\\Lib\\site-packages\\seaborn\\_oldcore.py:1119: FutureWarning: use_inf_as_na option is deprecated and will be removed in a future version. Convert inf values to NaN before operating instead.\n",
      "  with pd.option_context('mode.use_inf_as_na', True):\n"
     ]
    },
    {
     "data": {
      "image/png": "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",
      "text/plain": [
       "<Figure size 1000x500 with 1 Axes>"
      ]
     },
     "metadata": {},
     "output_type": "display_data"
    }
   ],
   "source": [
    "import matplotlib.pyplot as plt\n",
    "import seaborn as sns\n",
    "\n",
    "plt.figure(figsize = (10, 5))\n",
    "sns.histplot(data=hulu_movies, x= 'duration')\n",
    "plt.title('Distribution of Movies by Duration')\n",
    "plt.xlabel('Duration (min)')\n",
    "plt.ylabel('Count of Movies')\n",
    "plt.show()"
   ]
  },
  {
   "cell_type": "markdown",
   "id": "35387085",
   "metadata": {},
   "source": [
    "The \"duration\" distribution of movies appears to be normal, so the mean will be used to fill missing values."
   ]
  },
  {
   "cell_type": "code",
   "execution_count": 25,
   "id": "48d48522",
   "metadata": {},
   "outputs": [
    {
     "name": "stdout",
     "output_type": "stream",
     "text": [
      "<class 'pandas.core.frame.DataFrame'>\n",
      "Index: 1422 entries, 0 to 2993\n",
      "Data columns (total 8 columns):\n",
      " #   Column              Non-Null Count  Dtype  \n",
      "---  ------              --------------  -----  \n",
      " 0   type                1422 non-null   object \n",
      " 1   title               1422 non-null   object \n",
      " 2   date_added          1422 non-null   object \n",
      " 3   release_year        1422 non-null   int64  \n",
      " 4   rating              902 non-null    object \n",
      " 5   duration            1422 non-null   float64\n",
      " 6   listed_in           1422 non-null   object \n",
      " 7   streaming_platform  1422 non-null   object \n",
      "dtypes: float64(1), int64(1), object(6)\n",
      "memory usage: 132.3+ KB\n"
     ]
    }
   ],
   "source": [
    "hulu_movies['duration'] = hulu_movies['duration'].fillna( hulu_movies['duration'].mean() )\n",
    "hulu_movies.info()"
   ]
  },
  {
   "cell_type": "markdown",
   "id": "dfdbc6f1",
   "metadata": {},
   "source": [
    "Renaming the column to include the units of duration."
   ]
  },
  {
   "cell_type": "code",
   "execution_count": 35,
   "id": "758062bb",
   "metadata": {},
   "outputs": [],
   "source": [
    "hulu_movies = hulu_movies.rename(columns={'duration': 'duration_minutes'})"
   ]
  },
  {
   "cell_type": "code",
   "execution_count": 36,
   "id": "de113915",
   "metadata": {},
   "outputs": [
    {
     "data": {
      "text/plain": [
       "520"
      ]
     },
     "execution_count": 36,
     "metadata": {},
     "output_type": "execute_result"
    }
   ],
   "source": [
    "hulu_movies['rating'].isna().sum()"
   ]
  },
  {
   "cell_type": "markdown",
   "id": "5ff5fb20",
   "metadata": {},
   "source": [
    "The only missing data is now in the category rating. If all nulls are dropped, ~37% of the data is removed. This is not optimal, but much of the data for \"ratings\" was corrupted."
   ]
  },
  {
   "cell_type": "code",
   "execution_count": 37,
   "id": "2d68133b",
   "metadata": {},
   "outputs": [
    {
     "name": "stdout",
     "output_type": "stream",
     "text": [
      "<class 'pandas.core.frame.DataFrame'>\n",
      "Index: 902 entries, 0 to 2982\n",
      "Data columns (total 8 columns):\n",
      " #   Column              Non-Null Count  Dtype  \n",
      "---  ------              --------------  -----  \n",
      " 0   type                902 non-null    object \n",
      " 1   title               902 non-null    object \n",
      " 2   date_added          902 non-null    object \n",
      " 3   release_year        902 non-null    int64  \n",
      " 4   rating              902 non-null    object \n",
      " 5   duration_minutes    902 non-null    float64\n",
      " 6   listed_in           902 non-null    object \n",
      " 7   streaming_platform  902 non-null    object \n",
      "dtypes: float64(1), int64(1), object(6)\n",
      "memory usage: 63.4+ KB\n"
     ]
    }
   ],
   "source": [
    "hulu_movies_final = hulu_movies.dropna()\n",
    "hulu_movies_final.info()"
   ]
  },
  {
   "cell_type": "markdown",
   "id": "0a1f3e30",
   "metadata": {},
   "source": [
    "## Exporting the Dataframes"
   ]
  },
  {
   "cell_type": "markdown",
   "id": "8f4216c1",
   "metadata": {},
   "source": [
    "Lastly, the cleaned dataframes will be exported for further evaluation."
   ]
  },
  {
   "cell_type": "code",
   "execution_count": 28,
   "id": "7eef406c",
   "metadata": {},
   "outputs": [],
   "source": [
    "hulu_movies_final.to_csv('Hulu_movies.csv', index = False)\n",
    "hulu_tv_shows_final.to_csv('Hulu_tv_shows.csv', index = False)"
   ]
  }
 ],
 "metadata": {
  "kernelspec": {
   "display_name": "Python 3 (ipykernel)",
   "language": "python",
   "name": "python3"
  },
  "language_info": {
   "codemirror_mode": {
    "name": "ipython",
    "version": 3
   },
   "file_extension": ".py",
   "mimetype": "text/x-python",
   "name": "python",
   "nbconvert_exporter": "python",
   "pygments_lexer": "ipython3",
   "version": "3.11.7"
  }
 },
 "nbformat": 4,
 "nbformat_minor": 5
}
